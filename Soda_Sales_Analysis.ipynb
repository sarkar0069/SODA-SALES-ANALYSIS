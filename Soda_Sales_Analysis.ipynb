{
 "cells": [
  {
   "cell_type": "markdown",
   "id": "50c058b5-784c-4809-b8ae-71fcd31adbd6",
   "metadata": {},
   "source": [
    "## SODA SALES ANALYSIS"
   ]
  },
  {
   "cell_type": "code",
   "execution_count": 1,
   "id": "74068e1f-20c8-4135-918f-b8ccfb514969",
   "metadata": {},
   "outputs": [],
   "source": [
    "import pandas as pd\n",
    "import numpy as np\n",
    "import matplotlib.pyplot as plt\n",
    "import seaborn as sns\n",
    "from statsmodels.tsa.seasonal import seasonal_decompose\n",
    "from statsmodels.api import OLS, add_constant"
   ]
  },
  {
   "cell_type": "code",
   "execution_count": 3,
   "id": "7a33b8be-2595-4ed8-a88f-2f6e496c1313",
   "metadata": {},
   "outputs": [],
   "source": [
    "soda = pd.read_csv(r\"D:\\Testdirectory\\Codes\\Soda Sales Analysis\\SodaSales.csv\")"
   ]
  },
  {
   "cell_type": "code",
   "execution_count": 4,
   "id": "35629a98-06e0-4608-ae64-71a13d2c2966",
   "metadata": {},
   "outputs": [
    {
     "data": {
      "text/html": [
       "<div>\n",
       "<style scoped>\n",
       "    .dataframe tbody tr th:only-of-type {\n",
       "        vertical-align: middle;\n",
       "    }\n",
       "\n",
       "    .dataframe tbody tr th {\n",
       "        vertical-align: top;\n",
       "    }\n",
       "\n",
       "    .dataframe thead th {\n",
       "        text-align: right;\n",
       "    }\n",
       "</style>\n",
       "<table border=\"1\" class=\"dataframe\">\n",
       "  <thead>\n",
       "    <tr style=\"text-align: right;\">\n",
       "      <th></th>\n",
       "      <th>Month</th>\n",
       "      <th>SalesVol</th>\n",
       "      <th>TVGrP</th>\n",
       "      <th>InstoreAds</th>\n",
       "      <th>OutdoorAds</th>\n",
       "      <th>Promotion</th>\n",
       "      <th>DigitalAds</th>\n",
       "      <th>Price</th>\n",
       "      <th>Comp1TV</th>\n",
       "      <th>Comp1NPapers</th>\n",
       "      <th>Comp1OOH</th>\n",
       "      <th>Comp2NP</th>\n",
       "    </tr>\n",
       "  </thead>\n",
       "  <tbody>\n",
       "    <tr>\n",
       "      <th>36</th>\n",
       "      <td>01-01-2015</td>\n",
       "      <td>8655.0</td>\n",
       "      <td>1358.42</td>\n",
       "      <td>0.0</td>\n",
       "      <td>6.327407e+07</td>\n",
       "      <td>0.0</td>\n",
       "      <td>1615.0</td>\n",
       "      <td>152.0</td>\n",
       "      <td>8.0</td>\n",
       "      <td>0.0</td>\n",
       "      <td>0.0</td>\n",
       "      <td>144000.0</td>\n",
       "    </tr>\n",
       "    <tr>\n",
       "      <th>51</th>\n",
       "      <td>NaN</td>\n",
       "      <td>NaN</td>\n",
       "      <td>NaN</td>\n",
       "      <td>NaN</td>\n",
       "      <td>NaN</td>\n",
       "      <td>NaN</td>\n",
       "      <td>NaN</td>\n",
       "      <td>NaN</td>\n",
       "      <td>NaN</td>\n",
       "      <td>NaN</td>\n",
       "      <td>NaN</td>\n",
       "      <td>NaN</td>\n",
       "    </tr>\n",
       "    <tr>\n",
       "      <th>43</th>\n",
       "      <td>01-08-2015</td>\n",
       "      <td>9100.0</td>\n",
       "      <td>1035.45</td>\n",
       "      <td>0.0</td>\n",
       "      <td>3.760109e+08</td>\n",
       "      <td>2771002.0</td>\n",
       "      <td>228.0</td>\n",
       "      <td>153.0</td>\n",
       "      <td>12.0</td>\n",
       "      <td>12352000.0</td>\n",
       "      <td>0.0</td>\n",
       "      <td>8318000.0</td>\n",
       "    </tr>\n",
       "    <tr>\n",
       "      <th>39</th>\n",
       "      <td>01-04-2015</td>\n",
       "      <td>10914.0</td>\n",
       "      <td>410.48</td>\n",
       "      <td>4699238.0</td>\n",
       "      <td>1.072985e+08</td>\n",
       "      <td>0.0</td>\n",
       "      <td>1984.0</td>\n",
       "      <td>150.0</td>\n",
       "      <td>10.0</td>\n",
       "      <td>0.0</td>\n",
       "      <td>0.0</td>\n",
       "      <td>0.0</td>\n",
       "    </tr>\n",
       "    <tr>\n",
       "      <th>16</th>\n",
       "      <td>01-05-2013</td>\n",
       "      <td>10094.0</td>\n",
       "      <td>643.83</td>\n",
       "      <td>412067.0</td>\n",
       "      <td>1.242562e+07</td>\n",
       "      <td>20145571.0</td>\n",
       "      <td>2820.0</td>\n",
       "      <td>152.0</td>\n",
       "      <td>17.0</td>\n",
       "      <td>0.0</td>\n",
       "      <td>0.0</td>\n",
       "      <td>0.0</td>\n",
       "    </tr>\n",
       "  </tbody>\n",
       "</table>\n",
       "</div>"
      ],
      "text/plain": [
       "         Month  SalesVol    TVGrP  InstoreAds    OutdoorAds   Promotion  \\\n",
       "36  01-01-2015    8655.0  1358.42         0.0  6.327407e+07         0.0   \n",
       "51         NaN       NaN      NaN         NaN           NaN         NaN   \n",
       "43  01-08-2015    9100.0  1035.45         0.0  3.760109e+08   2771002.0   \n",
       "39  01-04-2015   10914.0   410.48   4699238.0  1.072985e+08         0.0   \n",
       "16  01-05-2013   10094.0   643.83    412067.0  1.242562e+07  20145571.0   \n",
       "\n",
       "    DigitalAds  Price  Comp1TV  Comp1NPapers  Comp1OOH    Comp2NP  \n",
       "36      1615.0  152.0      8.0           0.0       0.0   144000.0  \n",
       "51         NaN    NaN      NaN           NaN       NaN        NaN  \n",
       "43       228.0  153.0     12.0    12352000.0       0.0  8318000.0  \n",
       "39      1984.0  150.0     10.0           0.0       0.0        0.0  \n",
       "16      2820.0  152.0     17.0           0.0       0.0        0.0  "
      ]
     },
     "execution_count": 4,
     "metadata": {},
     "output_type": "execute_result"
    }
   ],
   "source": [
    "soda.sample(5)"
   ]
  },
  {
   "cell_type": "code",
   "execution_count": 25,
   "id": "a37884b9-ef99-4bed-8b0d-104fdce977da",
   "metadata": {},
   "outputs": [
    {
     "data": {
      "text/plain": [
       "(61, 12)"
      ]
     },
     "execution_count": 25,
     "metadata": {},
     "output_type": "execute_result"
    }
   ],
   "source": [
    "soda.shape"
   ]
  },
  {
   "cell_type": "markdown",
   "id": "25d4daa1-5d64-4032-afb6-1336e605fe49",
   "metadata": {},
   "source": [
    "### Data Cleaning and Preprocessing"
   ]
  },
  {
   "cell_type": "code",
   "execution_count": 7,
   "id": "508a8f8a-8f2f-4218-8bfd-30077c34c86e",
   "metadata": {},
   "outputs": [
    {
     "name": "stdout",
     "output_type": "stream",
     "text": [
      "<class 'pandas.core.frame.DataFrame'>\n",
      "RangeIndex: 61 entries, 0 to 60\n",
      "Data columns (total 12 columns):\n",
      " #   Column        Non-Null Count  Dtype  \n",
      "---  ------        --------------  -----  \n",
      " 0   Month         45 non-null     object \n",
      " 1   SalesVol      45 non-null     float64\n",
      " 2   TVGrP         45 non-null     float64\n",
      " 3   InstoreAds    45 non-null     float64\n",
      " 4   OutdoorAds    45 non-null     float64\n",
      " 5   Promotion     45 non-null     float64\n",
      " 6   DigitalAds    45 non-null     float64\n",
      " 7   Price         45 non-null     float64\n",
      " 8   Comp1TV       45 non-null     float64\n",
      " 9   Comp1NPapers  45 non-null     float64\n",
      " 10  Comp1OOH      45 non-null     float64\n",
      " 11  Comp2NP       45 non-null     float64\n",
      "dtypes: float64(11), object(1)\n",
      "memory usage: 5.8+ KB\n"
     ]
    }
   ],
   "source": [
    "soda.info()"
   ]
  },
  {
   "cell_type": "code",
   "execution_count": 10,
   "id": "8b89a75c-8b01-4d8d-9ee3-435b40497cdf",
   "metadata": {},
   "outputs": [
    {
     "data": {
      "text/plain": [
       "Month           16\n",
       "SalesVol        16\n",
       "TVGrP           16\n",
       "InstoreAds      16\n",
       "OutdoorAds      16\n",
       "Promotion       16\n",
       "DigitalAds      16\n",
       "Price           16\n",
       "Comp1TV         16\n",
       "Comp1NPapers    16\n",
       "Comp1OOH        16\n",
       "Comp2NP         16\n",
       "dtype: int64"
      ]
     },
     "execution_count": 10,
     "metadata": {},
     "output_type": "execute_result"
    }
   ],
   "source": [
    "soda.isnull().sum()"
   ]
  },
  {
   "cell_type": "code",
   "execution_count": 11,
   "id": "971563c1-7c86-402e-bae5-56a72e8e822d",
   "metadata": {},
   "outputs": [
    {
     "data": {
      "text/plain": [
       "Month           16\n",
       "SalesVol        16\n",
       "TVGrP           16\n",
       "InstoreAds      16\n",
       "OutdoorAds      16\n",
       "Promotion       16\n",
       "DigitalAds      16\n",
       "Price           16\n",
       "Comp1TV         16\n",
       "Comp1NPapers    16\n",
       "Comp1OOH        16\n",
       "Comp2NP         16\n",
       "dtype: int64"
      ]
     },
     "execution_count": 11,
     "metadata": {},
     "output_type": "execute_result"
    }
   ],
   "source": [
    "soda.isna().sum()"
   ]
  },
  {
   "cell_type": "code",
   "execution_count": 14,
   "id": "d16b9ca8-17f2-40ae-8002-5bda6d9dfa78",
   "metadata": {},
   "outputs": [
    {
     "data": {
      "text/plain": [
       "15"
      ]
     },
     "execution_count": 14,
     "metadata": {},
     "output_type": "execute_result"
    }
   ],
   "source": [
    "soda.duplicated().sum()"
   ]
  },
  {
   "cell_type": "code",
   "execution_count": 16,
   "id": "ac205227-7537-4980-bdc9-80935dac450f",
   "metadata": {},
   "outputs": [
    {
     "data": {
      "text/html": [
       "<div>\n",
       "<style scoped>\n",
       "    .dataframe tbody tr th:only-of-type {\n",
       "        vertical-align: middle;\n",
       "    }\n",
       "\n",
       "    .dataframe tbody tr th {\n",
       "        vertical-align: top;\n",
       "    }\n",
       "\n",
       "    .dataframe thead th {\n",
       "        text-align: right;\n",
       "    }\n",
       "</style>\n",
       "<table border=\"1\" class=\"dataframe\">\n",
       "  <thead>\n",
       "    <tr style=\"text-align: right;\">\n",
       "      <th></th>\n",
       "      <th>Month</th>\n",
       "      <th>SalesVol</th>\n",
       "      <th>TVGrP</th>\n",
       "      <th>InstoreAds</th>\n",
       "      <th>OutdoorAds</th>\n",
       "      <th>Promotion</th>\n",
       "      <th>DigitalAds</th>\n",
       "      <th>Price</th>\n",
       "      <th>Comp1TV</th>\n",
       "      <th>Comp1NPapers</th>\n",
       "      <th>Comp1OOH</th>\n",
       "      <th>Comp2NP</th>\n",
       "    </tr>\n",
       "  </thead>\n",
       "  <tbody>\n",
       "    <tr>\n",
       "      <th>46</th>\n",
       "      <td>NaN</td>\n",
       "      <td>NaN</td>\n",
       "      <td>NaN</td>\n",
       "      <td>NaN</td>\n",
       "      <td>NaN</td>\n",
       "      <td>NaN</td>\n",
       "      <td>NaN</td>\n",
       "      <td>NaN</td>\n",
       "      <td>NaN</td>\n",
       "      <td>NaN</td>\n",
       "      <td>NaN</td>\n",
       "      <td>NaN</td>\n",
       "    </tr>\n",
       "    <tr>\n",
       "      <th>47</th>\n",
       "      <td>NaN</td>\n",
       "      <td>NaN</td>\n",
       "      <td>NaN</td>\n",
       "      <td>NaN</td>\n",
       "      <td>NaN</td>\n",
       "      <td>NaN</td>\n",
       "      <td>NaN</td>\n",
       "      <td>NaN</td>\n",
       "      <td>NaN</td>\n",
       "      <td>NaN</td>\n",
       "      <td>NaN</td>\n",
       "      <td>NaN</td>\n",
       "    </tr>\n",
       "    <tr>\n",
       "      <th>48</th>\n",
       "      <td>NaN</td>\n",
       "      <td>NaN</td>\n",
       "      <td>NaN</td>\n",
       "      <td>NaN</td>\n",
       "      <td>NaN</td>\n",
       "      <td>NaN</td>\n",
       "      <td>NaN</td>\n",
       "      <td>NaN</td>\n",
       "      <td>NaN</td>\n",
       "      <td>NaN</td>\n",
       "      <td>NaN</td>\n",
       "      <td>NaN</td>\n",
       "    </tr>\n",
       "    <tr>\n",
       "      <th>49</th>\n",
       "      <td>NaN</td>\n",
       "      <td>NaN</td>\n",
       "      <td>NaN</td>\n",
       "      <td>NaN</td>\n",
       "      <td>NaN</td>\n",
       "      <td>NaN</td>\n",
       "      <td>NaN</td>\n",
       "      <td>NaN</td>\n",
       "      <td>NaN</td>\n",
       "      <td>NaN</td>\n",
       "      <td>NaN</td>\n",
       "      <td>NaN</td>\n",
       "    </tr>\n",
       "    <tr>\n",
       "      <th>50</th>\n",
       "      <td>NaN</td>\n",
       "      <td>NaN</td>\n",
       "      <td>NaN</td>\n",
       "      <td>NaN</td>\n",
       "      <td>NaN</td>\n",
       "      <td>NaN</td>\n",
       "      <td>NaN</td>\n",
       "      <td>NaN</td>\n",
       "      <td>NaN</td>\n",
       "      <td>NaN</td>\n",
       "      <td>NaN</td>\n",
       "      <td>NaN</td>\n",
       "    </tr>\n",
       "    <tr>\n",
       "      <th>51</th>\n",
       "      <td>NaN</td>\n",
       "      <td>NaN</td>\n",
       "      <td>NaN</td>\n",
       "      <td>NaN</td>\n",
       "      <td>NaN</td>\n",
       "      <td>NaN</td>\n",
       "      <td>NaN</td>\n",
       "      <td>NaN</td>\n",
       "      <td>NaN</td>\n",
       "      <td>NaN</td>\n",
       "      <td>NaN</td>\n",
       "      <td>NaN</td>\n",
       "    </tr>\n",
       "    <tr>\n",
       "      <th>52</th>\n",
       "      <td>NaN</td>\n",
       "      <td>NaN</td>\n",
       "      <td>NaN</td>\n",
       "      <td>NaN</td>\n",
       "      <td>NaN</td>\n",
       "      <td>NaN</td>\n",
       "      <td>NaN</td>\n",
       "      <td>NaN</td>\n",
       "      <td>NaN</td>\n",
       "      <td>NaN</td>\n",
       "      <td>NaN</td>\n",
       "      <td>NaN</td>\n",
       "    </tr>\n",
       "    <tr>\n",
       "      <th>53</th>\n",
       "      <td>NaN</td>\n",
       "      <td>NaN</td>\n",
       "      <td>NaN</td>\n",
       "      <td>NaN</td>\n",
       "      <td>NaN</td>\n",
       "      <td>NaN</td>\n",
       "      <td>NaN</td>\n",
       "      <td>NaN</td>\n",
       "      <td>NaN</td>\n",
       "      <td>NaN</td>\n",
       "      <td>NaN</td>\n",
       "      <td>NaN</td>\n",
       "    </tr>\n",
       "    <tr>\n",
       "      <th>54</th>\n",
       "      <td>NaN</td>\n",
       "      <td>NaN</td>\n",
       "      <td>NaN</td>\n",
       "      <td>NaN</td>\n",
       "      <td>NaN</td>\n",
       "      <td>NaN</td>\n",
       "      <td>NaN</td>\n",
       "      <td>NaN</td>\n",
       "      <td>NaN</td>\n",
       "      <td>NaN</td>\n",
       "      <td>NaN</td>\n",
       "      <td>NaN</td>\n",
       "    </tr>\n",
       "    <tr>\n",
       "      <th>55</th>\n",
       "      <td>NaN</td>\n",
       "      <td>NaN</td>\n",
       "      <td>NaN</td>\n",
       "      <td>NaN</td>\n",
       "      <td>NaN</td>\n",
       "      <td>NaN</td>\n",
       "      <td>NaN</td>\n",
       "      <td>NaN</td>\n",
       "      <td>NaN</td>\n",
       "      <td>NaN</td>\n",
       "      <td>NaN</td>\n",
       "      <td>NaN</td>\n",
       "    </tr>\n",
       "    <tr>\n",
       "      <th>56</th>\n",
       "      <td>NaN</td>\n",
       "      <td>NaN</td>\n",
       "      <td>NaN</td>\n",
       "      <td>NaN</td>\n",
       "      <td>NaN</td>\n",
       "      <td>NaN</td>\n",
       "      <td>NaN</td>\n",
       "      <td>NaN</td>\n",
       "      <td>NaN</td>\n",
       "      <td>NaN</td>\n",
       "      <td>NaN</td>\n",
       "      <td>NaN</td>\n",
       "    </tr>\n",
       "    <tr>\n",
       "      <th>57</th>\n",
       "      <td>NaN</td>\n",
       "      <td>NaN</td>\n",
       "      <td>NaN</td>\n",
       "      <td>NaN</td>\n",
       "      <td>NaN</td>\n",
       "      <td>NaN</td>\n",
       "      <td>NaN</td>\n",
       "      <td>NaN</td>\n",
       "      <td>NaN</td>\n",
       "      <td>NaN</td>\n",
       "      <td>NaN</td>\n",
       "      <td>NaN</td>\n",
       "    </tr>\n",
       "    <tr>\n",
       "      <th>58</th>\n",
       "      <td>NaN</td>\n",
       "      <td>NaN</td>\n",
       "      <td>NaN</td>\n",
       "      <td>NaN</td>\n",
       "      <td>NaN</td>\n",
       "      <td>NaN</td>\n",
       "      <td>NaN</td>\n",
       "      <td>NaN</td>\n",
       "      <td>NaN</td>\n",
       "      <td>NaN</td>\n",
       "      <td>NaN</td>\n",
       "      <td>NaN</td>\n",
       "    </tr>\n",
       "    <tr>\n",
       "      <th>59</th>\n",
       "      <td>NaN</td>\n",
       "      <td>NaN</td>\n",
       "      <td>NaN</td>\n",
       "      <td>NaN</td>\n",
       "      <td>NaN</td>\n",
       "      <td>NaN</td>\n",
       "      <td>NaN</td>\n",
       "      <td>NaN</td>\n",
       "      <td>NaN</td>\n",
       "      <td>NaN</td>\n",
       "      <td>NaN</td>\n",
       "      <td>NaN</td>\n",
       "    </tr>\n",
       "    <tr>\n",
       "      <th>60</th>\n",
       "      <td>NaN</td>\n",
       "      <td>NaN</td>\n",
       "      <td>NaN</td>\n",
       "      <td>NaN</td>\n",
       "      <td>NaN</td>\n",
       "      <td>NaN</td>\n",
       "      <td>NaN</td>\n",
       "      <td>NaN</td>\n",
       "      <td>NaN</td>\n",
       "      <td>NaN</td>\n",
       "      <td>NaN</td>\n",
       "      <td>NaN</td>\n",
       "    </tr>\n",
       "  </tbody>\n",
       "</table>\n",
       "</div>"
      ],
      "text/plain": [
       "   Month  SalesVol  TVGrP  InstoreAds  OutdoorAds  Promotion  DigitalAds  \\\n",
       "46   NaN       NaN    NaN         NaN         NaN        NaN         NaN   \n",
       "47   NaN       NaN    NaN         NaN         NaN        NaN         NaN   \n",
       "48   NaN       NaN    NaN         NaN         NaN        NaN         NaN   \n",
       "49   NaN       NaN    NaN         NaN         NaN        NaN         NaN   \n",
       "50   NaN       NaN    NaN         NaN         NaN        NaN         NaN   \n",
       "51   NaN       NaN    NaN         NaN         NaN        NaN         NaN   \n",
       "52   NaN       NaN    NaN         NaN         NaN        NaN         NaN   \n",
       "53   NaN       NaN    NaN         NaN         NaN        NaN         NaN   \n",
       "54   NaN       NaN    NaN         NaN         NaN        NaN         NaN   \n",
       "55   NaN       NaN    NaN         NaN         NaN        NaN         NaN   \n",
       "56   NaN       NaN    NaN         NaN         NaN        NaN         NaN   \n",
       "57   NaN       NaN    NaN         NaN         NaN        NaN         NaN   \n",
       "58   NaN       NaN    NaN         NaN         NaN        NaN         NaN   \n",
       "59   NaN       NaN    NaN         NaN         NaN        NaN         NaN   \n",
       "60   NaN       NaN    NaN         NaN         NaN        NaN         NaN   \n",
       "\n",
       "    Price  Comp1TV  Comp1NPapers  Comp1OOH  Comp2NP  \n",
       "46    NaN      NaN           NaN       NaN      NaN  \n",
       "47    NaN      NaN           NaN       NaN      NaN  \n",
       "48    NaN      NaN           NaN       NaN      NaN  \n",
       "49    NaN      NaN           NaN       NaN      NaN  \n",
       "50    NaN      NaN           NaN       NaN      NaN  \n",
       "51    NaN      NaN           NaN       NaN      NaN  \n",
       "52    NaN      NaN           NaN       NaN      NaN  \n",
       "53    NaN      NaN           NaN       NaN      NaN  \n",
       "54    NaN      NaN           NaN       NaN      NaN  \n",
       "55    NaN      NaN           NaN       NaN      NaN  \n",
       "56    NaN      NaN           NaN       NaN      NaN  \n",
       "57    NaN      NaN           NaN       NaN      NaN  \n",
       "58    NaN      NaN           NaN       NaN      NaN  \n",
       "59    NaN      NaN           NaN       NaN      NaN  \n",
       "60    NaN      NaN           NaN       NaN      NaN  "
      ]
     },
     "execution_count": 16,
     "metadata": {},
     "output_type": "execute_result"
    }
   ],
   "source": [
    "soda[soda.duplicated()]"
   ]
  },
  {
   "cell_type": "code",
   "execution_count": 17,
   "id": "537a4318-f66e-4d32-b5f1-9243ce015a82",
   "metadata": {},
   "outputs": [],
   "source": [
    "soda_clean = soda.dropna(how = \"all\").reset_index(drop = True)"
   ]
  },
  {
   "cell_type": "code",
   "execution_count": 18,
   "id": "4ed87483-3b1d-4ed1-ab06-778e6740386b",
   "metadata": {},
   "outputs": [
    {
     "data": {
      "text/plain": [
       "0"
      ]
     },
     "execution_count": 18,
     "metadata": {},
     "output_type": "execute_result"
    }
   ],
   "source": [
    "soda_clean.duplicated().sum()"
   ]
  },
  {
   "cell_type": "code",
   "execution_count": 19,
   "id": "d1120d62-7faf-494d-b97b-1d1596cfee57",
   "metadata": {},
   "outputs": [],
   "source": [
    "df = soda_clean"
   ]
  },
  {
   "cell_type": "code",
   "execution_count": 20,
   "id": "394771bc-d7c3-4a61-b942-a7040c59e81b",
   "metadata": {},
   "outputs": [
    {
     "name": "stdout",
     "output_type": "stream",
     "text": [
      "<class 'pandas.core.frame.DataFrame'>\n",
      "RangeIndex: 45 entries, 0 to 44\n",
      "Data columns (total 12 columns):\n",
      " #   Column        Non-Null Count  Dtype  \n",
      "---  ------        --------------  -----  \n",
      " 0   Month         45 non-null     object \n",
      " 1   SalesVol      45 non-null     float64\n",
      " 2   TVGrP         45 non-null     float64\n",
      " 3   InstoreAds    45 non-null     float64\n",
      " 4   OutdoorAds    45 non-null     float64\n",
      " 5   Promotion     45 non-null     float64\n",
      " 6   DigitalAds    45 non-null     float64\n",
      " 7   Price         45 non-null     float64\n",
      " 8   Comp1TV       45 non-null     float64\n",
      " 9   Comp1NPapers  45 non-null     float64\n",
      " 10  Comp1OOH      45 non-null     float64\n",
      " 11  Comp2NP       45 non-null     float64\n",
      "dtypes: float64(11), object(1)\n",
      "memory usage: 4.3+ KB\n"
     ]
    }
   ],
   "source": [
    "df.info()"
   ]
  },
  {
   "cell_type": "code",
   "execution_count": 24,
   "id": "1b98f41c-bb7f-4830-b73a-49bb47f58d19",
   "metadata": {},
   "outputs": [
    {
     "data": {
      "text/plain": [
       "Month           0\n",
       "SalesVol        0\n",
       "TVGrP           0\n",
       "InstoreAds      0\n",
       "OutdoorAds      0\n",
       "Promotion       0\n",
       "DigitalAds      0\n",
       "Price           0\n",
       "Comp1TV         0\n",
       "Comp1NPapers    0\n",
       "Comp1OOH        0\n",
       "Comp2NP         0\n",
       "dtype: int64"
      ]
     },
     "execution_count": 24,
     "metadata": {},
     "output_type": "execute_result"
    }
   ],
   "source": [
    "df.isnull().sum()"
   ]
  },
  {
   "cell_type": "code",
   "execution_count": 21,
   "id": "58374f54-1502-461c-8178-3fb5d928ff26",
   "metadata": {
    "scrolled": true
   },
   "outputs": [
    {
     "data": {
      "text/html": [
       "<div>\n",
       "<style scoped>\n",
       "    .dataframe tbody tr th:only-of-type {\n",
       "        vertical-align: middle;\n",
       "    }\n",
       "\n",
       "    .dataframe tbody tr th {\n",
       "        vertical-align: top;\n",
       "    }\n",
       "\n",
       "    .dataframe thead th {\n",
       "        text-align: right;\n",
       "    }\n",
       "</style>\n",
       "<table border=\"1\" class=\"dataframe\">\n",
       "  <thead>\n",
       "    <tr style=\"text-align: right;\">\n",
       "      <th></th>\n",
       "      <th>SalesVol</th>\n",
       "      <th>TVGrP</th>\n",
       "      <th>InstoreAds</th>\n",
       "      <th>OutdoorAds</th>\n",
       "      <th>Promotion</th>\n",
       "      <th>DigitalAds</th>\n",
       "      <th>Price</th>\n",
       "      <th>Comp1TV</th>\n",
       "      <th>Comp1NPapers</th>\n",
       "      <th>Comp1OOH</th>\n",
       "      <th>Comp2NP</th>\n",
       "    </tr>\n",
       "  </thead>\n",
       "  <tbody>\n",
       "    <tr>\n",
       "      <th>count</th>\n",
       "      <td>45.000000</td>\n",
       "      <td>45.000000</td>\n",
       "      <td>4.500000e+01</td>\n",
       "      <td>4.500000e+01</td>\n",
       "      <td>4.500000e+01</td>\n",
       "      <td>45.000000</td>\n",
       "      <td>45.000000</td>\n",
       "      <td>45.000000</td>\n",
       "      <td>4.500000e+01</td>\n",
       "      <td>45.000000</td>\n",
       "      <td>4.500000e+01</td>\n",
       "    </tr>\n",
       "    <tr>\n",
       "      <th>mean</th>\n",
       "      <td>8558.333333</td>\n",
       "      <td>792.974444</td>\n",
       "      <td>7.754524e+05</td>\n",
       "      <td>4.717784e+07</td>\n",
       "      <td>1.911773e+06</td>\n",
       "      <td>2079.111111</td>\n",
       "      <td>152.822222</td>\n",
       "      <td>11.533333</td>\n",
       "      <td>1.717422e+06</td>\n",
       "      <td>0.044444</td>\n",
       "      <td>5.218789e+06</td>\n",
       "    </tr>\n",
       "    <tr>\n",
       "      <th>std</th>\n",
       "      <td>1221.793652</td>\n",
       "      <td>334.481516</td>\n",
       "      <td>1.328463e+06</td>\n",
       "      <td>8.906464e+07</td>\n",
       "      <td>4.302471e+06</td>\n",
       "      <td>952.394356</td>\n",
       "      <td>1.812694</td>\n",
       "      <td>6.827751</td>\n",
       "      <td>4.376170e+06</td>\n",
       "      <td>0.208409</td>\n",
       "      <td>8.688921e+06</td>\n",
       "    </tr>\n",
       "    <tr>\n",
       "      <th>min</th>\n",
       "      <td>6196.000000</td>\n",
       "      <td>252.220000</td>\n",
       "      <td>0.000000e+00</td>\n",
       "      <td>3.918760e+05</td>\n",
       "      <td>0.000000e+00</td>\n",
       "      <td>0.000000</td>\n",
       "      <td>149.000000</td>\n",
       "      <td>0.000000</td>\n",
       "      <td>0.000000e+00</td>\n",
       "      <td>0.000000</td>\n",
       "      <td>0.000000e+00</td>\n",
       "    </tr>\n",
       "    <tr>\n",
       "      <th>25%</th>\n",
       "      <td>7863.000000</td>\n",
       "      <td>532.610000</td>\n",
       "      <td>0.000000e+00</td>\n",
       "      <td>7.789681e+06</td>\n",
       "      <td>0.000000e+00</td>\n",
       "      <td>1615.000000</td>\n",
       "      <td>151.000000</td>\n",
       "      <td>6.000000</td>\n",
       "      <td>0.000000e+00</td>\n",
       "      <td>0.000000</td>\n",
       "      <td>0.000000e+00</td>\n",
       "    </tr>\n",
       "    <tr>\n",
       "      <th>50%</th>\n",
       "      <td>8523.000000</td>\n",
       "      <td>740.340000</td>\n",
       "      <td>0.000000e+00</td>\n",
       "      <td>1.140075e+07</td>\n",
       "      <td>0.000000e+00</td>\n",
       "      <td>2266.000000</td>\n",
       "      <td>153.000000</td>\n",
       "      <td>13.000000</td>\n",
       "      <td>0.000000e+00</td>\n",
       "      <td>0.000000</td>\n",
       "      <td>0.000000e+00</td>\n",
       "    </tr>\n",
       "    <tr>\n",
       "      <th>75%</th>\n",
       "      <td>9240.000000</td>\n",
       "      <td>1035.450000</td>\n",
       "      <td>4.120670e+05</td>\n",
       "      <td>1.745151e+07</td>\n",
       "      <td>2.776414e+06</td>\n",
       "      <td>2574.000000</td>\n",
       "      <td>154.000000</td>\n",
       "      <td>17.000000</td>\n",
       "      <td>0.000000e+00</td>\n",
       "      <td>0.000000</td>\n",
       "      <td>6.840000e+06</td>\n",
       "    </tr>\n",
       "    <tr>\n",
       "      <th>max</th>\n",
       "      <td>11132.000000</td>\n",
       "      <td>1620.450000</td>\n",
       "      <td>4.699238e+06</td>\n",
       "      <td>3.760109e+08</td>\n",
       "      <td>2.014557e+07</td>\n",
       "      <td>4524.000000</td>\n",
       "      <td>156.000000</td>\n",
       "      <td>22.000000</td>\n",
       "      <td>1.852800e+07</td>\n",
       "      <td>1.000000</td>\n",
       "      <td>3.850800e+07</td>\n",
       "    </tr>\n",
       "  </tbody>\n",
       "</table>\n",
       "</div>"
      ],
      "text/plain": [
       "           SalesVol        TVGrP    InstoreAds    OutdoorAds     Promotion  \\\n",
       "count     45.000000    45.000000  4.500000e+01  4.500000e+01  4.500000e+01   \n",
       "mean    8558.333333   792.974444  7.754524e+05  4.717784e+07  1.911773e+06   \n",
       "std     1221.793652   334.481516  1.328463e+06  8.906464e+07  4.302471e+06   \n",
       "min     6196.000000   252.220000  0.000000e+00  3.918760e+05  0.000000e+00   \n",
       "25%     7863.000000   532.610000  0.000000e+00  7.789681e+06  0.000000e+00   \n",
       "50%     8523.000000   740.340000  0.000000e+00  1.140075e+07  0.000000e+00   \n",
       "75%     9240.000000  1035.450000  4.120670e+05  1.745151e+07  2.776414e+06   \n",
       "max    11132.000000  1620.450000  4.699238e+06  3.760109e+08  2.014557e+07   \n",
       "\n",
       "        DigitalAds       Price    Comp1TV  Comp1NPapers   Comp1OOH  \\\n",
       "count    45.000000   45.000000  45.000000  4.500000e+01  45.000000   \n",
       "mean   2079.111111  152.822222  11.533333  1.717422e+06   0.044444   \n",
       "std     952.394356    1.812694   6.827751  4.376170e+06   0.208409   \n",
       "min       0.000000  149.000000   0.000000  0.000000e+00   0.000000   \n",
       "25%    1615.000000  151.000000   6.000000  0.000000e+00   0.000000   \n",
       "50%    2266.000000  153.000000  13.000000  0.000000e+00   0.000000   \n",
       "75%    2574.000000  154.000000  17.000000  0.000000e+00   0.000000   \n",
       "max    4524.000000  156.000000  22.000000  1.852800e+07   1.000000   \n",
       "\n",
       "            Comp2NP  \n",
       "count  4.500000e+01  \n",
       "mean   5.218789e+06  \n",
       "std    8.688921e+06  \n",
       "min    0.000000e+00  \n",
       "25%    0.000000e+00  \n",
       "50%    0.000000e+00  \n",
       "75%    6.840000e+06  \n",
       "max    3.850800e+07  "
      ]
     },
     "execution_count": 21,
     "metadata": {},
     "output_type": "execute_result"
    }
   ],
   "source": [
    "soda.describe()"
   ]
  },
  {
   "cell_type": "markdown",
   "id": "eb8a8e97-66ac-4a1d-874c-9c266d9200bd",
   "metadata": {},
   "source": [
    "Removed 15 Duplicated NaN rows from the dataset"
   ]
  },
  {
   "cell_type": "code",
   "execution_count": 22,
   "id": "3001bd2b-cefd-47c0-868b-e2353d9d9dee",
   "metadata": {},
   "outputs": [
    {
     "data": {
      "text/plain": [
       "Month           45\n",
       "SalesVol        45\n",
       "TVGrP           44\n",
       "InstoreAds      10\n",
       "OutdoorAds      40\n",
       "Promotion       19\n",
       "DigitalAds      45\n",
       "Price            8\n",
       "Comp1TV         21\n",
       "Comp1NPapers     9\n",
       "Comp1OOH         2\n",
       "Comp2NP         19\n",
       "dtype: int64"
      ]
     },
     "execution_count": 22,
     "metadata": {},
     "output_type": "execute_result"
    }
   ],
   "source": [
    "df.nunique()"
   ]
  },
  {
   "cell_type": "code",
   "execution_count": 23,
   "id": "25e3e8d3-93e9-4e28-be08-a602f4d06c8f",
   "metadata": {},
   "outputs": [
    {
     "name": "stdout",
     "output_type": "stream",
     "text": [
      "Categories in 'Comp1OOH' variable:      [0. 1.]\n",
      "Categories in 'Comp1NPapers' variable:   [       0.  6636000. 14536000.   201000.   603000.  6107000. 12214000.\n",
      " 12352000. 18528000.]\n",
      "Categories in'Price' variable: [150. 153. 152. 149. 155. 154. 151. 156.]\n"
     ]
    }
   ],
   "source": [
    "print(\"Categories in 'Comp1OOH' variable:     \",end=\" \" )\n",
    "print(df['Comp1OOH'].unique())\n",
    "\n",
    "print(\"Categories in 'Comp1NPapers' variable:  \",end=\" \")\n",
    "print(df['Comp1NPapers'].unique())\n",
    "\n",
    "print(\"Categories in'Price' variable:\",end=\" \" )\n",
    "print(df['Price'].unique())"
   ]
  },
  {
   "cell_type": "markdown",
   "id": "0584e530-75b2-4e66-acae-58b88db30211",
   "metadata": {},
   "source": [
    "## ANALYSIS"
   ]
  },
  {
   "cell_type": "markdown",
   "id": "43e3b1df-3679-427a-ac86-bcc00296edae",
   "metadata": {},
   "source": [
    "###  1) Are soda sales afflicted by seasonality?"
   ]
  },
  {
   "cell_type": "code",
   "execution_count": 26,
   "id": "2b7f8b4f-cd7c-483c-a27b-3cff70e4d40a",
   "metadata": {},
   "outputs": [],
   "source": [
    "# Convert 'Month' to datetime\n",
    "df['Month'] = pd.to_datetime(df['Month'])\n",
    "df.set_index('Month', inplace=True)"
   ]
  },
  {
   "cell_type": "code",
   "execution_count": 28,
   "id": "f540571e-0a71-41bb-9539-388af4e12f82",
   "metadata": {},
   "outputs": [
    {
     "data": {
      "image/png": "[encoded data removed]",
      "text/plain": [
       "<Figure size 640x480 with 4 Axes>"
      ]
     },
     "metadata": {},
     "output_type": "display_data"
    }
   ],
   "source": [
    "# Decompose the time series\n",
    "decomposition = seasonal_decompose(df['SalesVol'], model='additive', period=12)\n",
    "decomposition.plot()\n",
    "plt.show()"
   ]
  },
  {
   "cell_type": "markdown",
   "id": "c43c3800-c8c1-4ea5-bc7e-2c972af2e4a5",
   "metadata": {},
   "source": [
    "<!-- Seasonal Component: The seasonal component of the decomposition shows clear periodic fluctuations, with peaks and troughs occurring at regular intervals. This indicates that soft drink sales have a strong seasonal pattern. -->\n",
    "\n",
    "<!-- Trend Component: The trend component shows an overall upward trend, suggesting that soft drink sales are generally increasing over time. However, the seasonal variations are superimposed on this underlying trend. -->\n",
    "\n",
    "<!-- Residual Component: The residual component, which represents the unexplained variations in the data, does not show any clear patterns, suggesting that the model has effectively captured the main drivers of the sales data, including the seasonal effects. -->\n",
    "\n",
    "<!-- The seasonal patterns observed in the decomposition are likely driven by factors such as: -->\n",
    "\n",
    "<!-- Increased consumption during warmer months or holiday periods -->\n",
    "<!-- Changes in consumer buying behavior and preferences throughout the year -->\n",
    "<!-- Promotional activities and marketing campaigns timed to specific seasons -->\n",
    "<!-- By understanding these seasonal patterns, the business can better plan its production, inventory management, and marketing strategies to align with the expected fluctuations in demand. This can help optimize sales, reduce waste, and improve overall profitability. -->\n",
    "\n",
    "<!-- In summary, the time series decomposition clearly demonstrates the presence of seasonality in the soft drink sales data, which is an important consideration for the business to make informed decisions and enhance its performance. -->"
   ]
  },
  {
   "cell_type": "markdown",
   "id": "a1c284e0-8426-4a80-9ae6-0ea73ccdd08e",
   "metadata": {},
   "source": [
    "Seasonal Component: The seasonal component of the decomposition shows clear periodic fluctuations, with peaks and troughs occurring at regular intervals. This indicates that soft drink sales have a strong seasonal pattern.\n",
    "\n",
    "Trend Component: The trend component shows an overall upward trend, suggesting that soft drink sales are generally increasing over time. However, the seasonal variations are superimposed on this underlying trend.\n",
    "\n",
    "Residual Component: The residual component, which represents the unexplained variations in the data, does not show any clear patterns, suggesting that the model has effectively captured the main drivers of the sales data, including the seasonal effects.\n",
    "\n",
    "The seasonal patterns observed in the decomposition are likely driven by factors such as:\n",
    "\n",
    "Increased consumption during warmer months or holiday periods\n",
    "Changes in consumer buying behavior and preferences throughout the year\n",
    "Promotional activities and marketing campaigns timed to specific seasons\n",
    "By understanding these seasonal patterns, the business can better plan its production, inventory management, and marketing strategies to align with the expected fluctuations in demand. This can help optimize sales, reduce waste, and improve overall profitability.\n",
    "\n",
    "In summary, the time series decomposition clearly demonstrates the presence of seasonality in the soft drink sales data, which is an important consideration for the business to make informed decisions and enhance its performance."
   ]
  },
  {
   "cell_type": "markdown",
   "id": "4d052823-5789-48f1-bc9e-1c0dad79fd9d",
   "metadata": {},
   "source": [
    "### 2) Is there a trend seen on soda sales?"
   ]
  },
  {
   "cell_type": "code",
   "execution_count": 29,
   "id": "d5df6787-5dba-4281-a7d4-87268e24b7fa",
   "metadata": {},
   "outputs": [
    {
     "data": {
      "image/png": "[encoded data removed]",
      "text/plain": [
       "<Figure size 1000x600 with 1 Axes>"
      ]
     },
     "metadata": {},
     "output_type": "display_data"
    }
   ],
   "source": [
    "# Prepare data for linear regression\n",
    "x = np.arange(len(df))\n",
    "y = df['SalesVol']\n",
    "\n",
    "# Perform linear regression\n",
    "coefficients = np.polyfit(x, y, 1)\n",
    "trendline = np.poly1d(coefficients)\n",
    "\n",
    "# Plotting\n",
    "plt.figure(figsize=(10, 6))\n",
    "plt.plot(df.index, df['SalesVol'], label='Sales Volume')\n",
    "plt.plot(df.index, trendline(x), color='red', linestyle='--', label='Trend Line')\n",
    "plt.title('Sales Volume with Trend Line')\n",
    "plt.xlabel('Month')\n",
    "plt.ylabel('Sales Volume (litres)')\n",
    "plt.legend()\n",
    "plt.show()"
   ]
  },
  {
   "cell_type": "markdown",
   "id": "ede83041-6300-4241-a4e8-a45049429d68",
   "metadata": {},
   "source": [
    "Yes, there is a clear trend seen in the soda sales data presented in the image. The trend line, shown in red, indicates an overall upward trend in sales volume over the time period from 2012 to 2015.\n",
    "\n",
    "The key observations regarding the trend are:\n",
    "\n",
    "Upward Slope: The trend line has a positive slope, showing that sales volumes have been increasing over the years.\n",
    "\n",
    "Fluctuations Around the Trend: While the overall trend is upward, the actual sales volume data (shown in blue) fluctuates around the trend line, with some periods experiencing higher sales and others lower sales.\n",
    "\n",
    "Magnitude of Trend: The trend line suggests a significant increase in sales volume over the 4-year period, with the sales volume rising from around 7,000 liters to over 10,000 liters.\n",
    "\n",
    "This upward trend in soda sales is likely driven by factors such as:\n",
    "\n",
    "Increasing consumer demand and consumption\n",
    "Successful marketing and promotional campaigns\n",
    "Expansion into new markets or distribution channels\n",
    "Competitive pricing and product innovations\n",
    "Understanding this underlying trend is crucial for the business to make informed decisions about production planning, inventory management, and strategic positioning in the market. The trend analysis can help the company anticipate future sales patterns and prepare accordingly."
   ]
  },
  {
   "cell_type": "markdown",
   "id": "0f190f05-0bf4-4b54-9de9-c0b976a819e2",
   "metadata": {},
   "source": [
    "###  3) What are the correlations between volume sales & media advertising (TV/Instoreads/Outdoorads/Digital)?"
   ]
  },
  {
   "cell_type": "code",
   "execution_count": 33,
   "id": "068e3a97-c465-4af8-a8d5-db44b3b3c745",
   "metadata": {},
   "outputs": [
    {
     "name": "stdout",
     "output_type": "stream",
     "text": [
      "            SalesVol     TVGrP  InstoreAds  OutdoorAds  DigitalAds\n",
      "SalesVol    1.000000  0.342076    0.350967    0.449199    0.078070\n",
      "TVGrP       0.342076  1.000000    0.045658    0.136287    0.286759\n",
      "InstoreAds  0.350967  0.045658    1.000000    0.093238    0.018284\n",
      "OutdoorAds  0.449199  0.136287    0.093238    1.000000   -0.482498\n",
      "DigitalAds  0.078070  0.286759    0.018284   -0.482498    1.000000\n"
     ]
    }
   ],
   "source": [
    "# Calculate correlations with SalesVol\n",
    "correlation = df[['SalesVol', 'TVGrP','InstoreAds', 'OutdoorAds', 'DigitalAds']].corr()\n",
    "print(correlation)"
   ]
  },
  {
   "cell_type": "code",
   "execution_count": 34,
   "id": "c69175f1-5a4d-41bd-bace-470a1cdfd418",
   "metadata": {},
   "outputs": [
    {
     "data": {
      "image/png": "[encoded data removed]",
      "text/plain": [
       "<Figure size 800x600 with 2 Axes>"
      ]
     },
     "metadata": {},
     "output_type": "display_data"
    }
   ],
   "source": [
    "plt.figure(figsize=(8, 6))\n",
    "sns.heatmap(correlation, annot=True, cmap='coolwarm', fmt='.2f')\n",
    "plt.title('Correlation Matrix')\n",
    "plt.show()"
   ]
  },
  {
   "cell_type": "markdown",
   "id": "78df63db-8abb-412e-8a86-5cfaf81a54de",
   "metadata": {},
   "source": [
    "TV GRP (Gross Rating Points): The correlation coefficient between sales volume and TV GRP is 0.342076. This indicates a moderate positive correlation, suggesting that higher TV advertising may be associated with increased sales volume.\n",
    "\n",
    "Instore Ads: The correlation coefficient between sales volume and instore advertising is 0.350967. This also represents a moderate positive correlation, indicating that instore advertising may have a positive impact on sales.\n",
    "\n",
    "Outdoor Ads: The correlation coefficient between sales volume and outdoor advertising is 0.449199. This is the strongest positive correlation among the advertising channels, suggesting that outdoor advertising has the most significant association with increased sales volume.\n",
    "\n",
    "Digital Ads: The correlation coefficient between sales volume and digital advertising is 0.078070. This is a very weak positive correlation, indicating that digital advertising may have a relatively minor impact on sales volume compared to the other channels."
   ]
  },
  {
   "cell_type": "markdown",
   "id": "d69c9ed8-ebec-4332-934b-9c3804d3eff5",
   "metadata": {},
   "source": [
    "### 4) What is the correlation between price and volume sales?"
   ]
  },
  {
   "cell_type": "code",
   "execution_count": 38,
   "id": "8bb3371c-3c1d-4452-a4a6-1da8494d81f1",
   "metadata": {},
   "outputs": [
    {
     "name": "stdout",
     "output_type": "stream",
     "text": [
      "          SalesVol     Price\n",
      "SalesVol  1.000000 -0.447419\n",
      "Price    -0.447419  1.000000\n"
     ]
    },
    {
     "data": {
      "image/png": "[encoded data removed]",
      "text/plain": [
       "<Figure size 1000x600 with 1 Axes>"
      ]
     },
     "metadata": {},
     "output_type": "display_data"
    }
   ],
   "source": [
    "# Calculate correlation between Price and SalesVol\n",
    "price_sales_corr = df[['SalesVol', 'Price']].corr()\n",
    "print(price_sales_corr)\n",
    "\n",
    "# Scatter plot\n",
    "plt.figure(figsize=(10, 6))\n",
    "plt.scatter(df['Price'], df['SalesVol'], alpha=0.6)\n",
    "plt.title('Price vs Sales Volume')\n",
    "plt.xlabel('Price per 10 litres')\n",
    "plt.ylabel('Sales Volume (litres)')\n",
    "plt.axhline(y=df['SalesVol'].mean(), color='r', linestyle='--')\n",
    "plt.show()"
   ]
  },
  {
   "cell_type": "markdown",
   "id": "016b7b1a-6304-4875-b73c-273d16cc740a",
   "metadata": {},
   "source": [
    "The correlation coefficient between sales volume and price is -0.447419. This indicates a moderate negative correlation, suggesting that as price increases, sales volume tends to decrease.\n",
    "\n",
    "This relationship reflects the concept of price elasticity of demand, where higher prices lead to lower quantities demanded by consumers. When prices rise, customers may be less willing to purchase the product, resulting in a decline in sales volume.\n",
    "\n",
    "The negative correlation coefficient suggests that the product has a degree of price sensitivity, where consumers are responsive to changes in price. This is a common characteristic of many consumer goods and services.\n",
    "\n",
    "However, it's important to note that the strength of this relationship can vary depending on various factors, such as the availability of substitutes, the necessity of the product, and the price sensitivity of the target market. A more comprehensive analysis considering these factors would provide a deeper understanding of the price-volume dynamics."
   ]
  },
  {
   "cell_type": "markdown",
   "id": "aa96b201-867d-48a9-b674-7302cd27e81d",
   "metadata": {},
   "source": [
    "### 5) What is the correlation between sales volume and promotions?"
   ]
  },
  {
   "cell_type": "code",
   "execution_count": 39,
   "id": "c4998232-a27c-438d-8ed0-da150d1d7b02",
   "metadata": {},
   "outputs": [
    {
     "name": "stdout",
     "output_type": "stream",
     "text": [
      "           SalesVol  Promotion\n",
      "SalesVol   1.000000   0.145759\n",
      "Promotion  0.145759   1.000000\n"
     ]
    }
   ],
   "source": [
    "# Calculate correlation between Promotion and SalesVol\n",
    "promo_sales_corr = df[['SalesVol', 'Promotion']].corr()\n",
    "print(promo_sales_corr)"
   ]
  },
  {
   "cell_type": "code",
   "execution_count": 41,
   "id": "3384d4f3-7aa2-4a08-81e2-1d45c751e5cd",
   "metadata": {},
   "outputs": [
    {
     "data": {
      "image/png": "[encoded data removed]",
      "text/plain": [
       "<Figure size 1000x600 with 1 Axes>"
      ]
     },
     "metadata": {},
     "output_type": "display_data"
    }
   ],
   "source": [
    "plt.figure(figsize=(10, 6))\n",
    "plt.scatter(df['Promotion'], df['SalesVol'], alpha=0.6)\n",
    "plt.title('Promotion vs Sales Volume')\n",
    "plt.xlabel('Promotional Spend')\n",
    "plt.ylabel('Sales Volume (litres)')\n",
    "plt.axhline(y=df['SalesVol'].mean(), color='r', linestyle='--')\n",
    "plt.show()"
   ]
  },
  {
   "cell_type": "markdown",
   "id": "c118485e-0606-48ea-9ca6-ea2999d6df2d",
   "metadata": {},
   "source": [
    "The correlation coefficient between sales volume and promotions is 0.145759. This indicates a weak positive correlation, suggesting that as promotions increase, sales volume tends to increase as well.\n",
    "\n",
    "This positive correlation suggests that marketing promotions can have a favorable impact on sales volume. When companies offer various promotional activities, such as discounts, coupons, or advertising campaigns, it can help stimulate customer demand and lead to higher sales.\n",
    "\n",
    "The strength of this relationship, however, may depend on factors like the effectiveness of the promotional strategies, the target market's responsiveness, and the overall competitive landscape. A more comprehensive analysis considering these factors would provide a deeper understanding of the promotion-volume dynamics."
   ]
  },
  {
   "cell_type": "markdown",
   "id": "914cd739-8182-456b-b809-d9707458bfd6",
   "metadata": {},
   "source": [
    "### 6) What is the partial correlation between sales and promotions where TV/Instore/Outdoor/Digital have been partialled out?"
   ]
  },
  {
   "cell_type": "code",
   "execution_count": 47,
   "id": "2897308f-7e16-4f27-92bd-be2150d42524",
   "metadata": {},
   "outputs": [
    {
     "name": "stdout",
     "output_type": "stream",
     "text": [
      "Collecting pingouin\n",
      "  Downloading pingouin-0.5.5-py3-none-any.whl.metadata (19 kB)\n",
      "Requirement already satisfied: matplotlib in c:\\users\\arpan\\anaconda3\\lib\\site-packages (from pingouin) (3.10.0)\n",
      "Requirement already satisfied: numpy in c:\\users\\arpan\\anaconda3\\lib\\site-packages (from pingouin) (1.26.4)\n",
      "Requirement already satisfied: pandas>=1.5 in c:\\users\\arpan\\anaconda3\\lib\\site-packages (from pingouin) (2.2.3)\n",
      "Collecting pandas-flavor (from pingouin)\n",
      "  Downloading pandas_flavor-0.7.0-py3-none-any.whl.metadata (6.7 kB)\n",
      "Requirement already satisfied: scikit-learn>=1.2 in c:\\users\\arpan\\anaconda3\\lib\\site-packages (from pingouin) (1.5.2)\n",
      "Requirement already satisfied: scipy in c:\\users\\arpan\\anaconda3\\lib\\site-packages (from pingouin) (1.13.1)\n",
      "Requirement already satisfied: seaborn in c:\\users\\arpan\\anaconda3\\lib\\site-packages (from pingouin) (0.13.2)\n",
      "Requirement already satisfied: statsmodels in c:\\users\\arpan\\anaconda3\\lib\\site-packages (from pingouin) (0.14.2)\n",
      "Requirement already satisfied: tabulate in c:\\users\\arpan\\anaconda3\\lib\\site-packages (from pingouin) (0.9.0)\n",
      "Requirement already satisfied: python-dateutil>=2.8.2 in c:\\users\\arpan\\anaconda3\\lib\\site-packages (from pandas>=1.5->pingouin) (2.9.0.post0)\n",
      "Requirement already satisfied: pytz>=2020.1 in c:\\users\\arpan\\anaconda3\\lib\\site-packages (from pandas>=1.5->pingouin) (2024.1)\n",
      "Requirement already satisfied: tzdata>=2022.7 in c:\\users\\arpan\\anaconda3\\lib\\site-packages (from pandas>=1.5->pingouin) (2023.3)\n",
      "Requirement already satisfied: joblib>=1.2.0 in c:\\users\\arpan\\anaconda3\\lib\\site-packages (from scikit-learn>=1.2->pingouin) (1.4.2)\n",
      "Requirement already satisfied: threadpoolctl>=3.1.0 in c:\\users\\arpan\\anaconda3\\lib\\site-packages (from scikit-learn>=1.2->pingouin) (3.5.0)\n",
      "Requirement already satisfied: contourpy>=1.0.1 in c:\\users\\arpan\\anaconda3\\lib\\site-packages (from matplotlib->pingouin) (1.2.0)\n",
      "Requirement already satisfied: cycler>=0.10 in c:\\users\\arpan\\anaconda3\\lib\\site-packages (from matplotlib->pingouin) (0.11.0)\n",
      "Requirement already satisfied: fonttools>=4.22.0 in c:\\users\\arpan\\anaconda3\\lib\\site-packages (from matplotlib->pingouin) (4.51.0)\n",
      "Requirement already satisfied: kiwisolver>=1.3.1 in c:\\users\\arpan\\anaconda3\\lib\\site-packages (from matplotlib->pingouin) (1.4.4)\n",
      "Requirement already satisfied: packaging>=20.0 in c:\\users\\arpan\\anaconda3\\lib\\site-packages (from matplotlib->pingouin) (24.1)\n",
      "Requirement already satisfied: pillow>=8 in c:\\users\\arpan\\anaconda3\\lib\\site-packages (from matplotlib->pingouin) (10.4.0)\n",
      "Requirement already satisfied: pyparsing>=2.3.1 in c:\\users\\arpan\\anaconda3\\lib\\site-packages (from matplotlib->pingouin) (3.1.2)\n",
      "Requirement already satisfied: xarray in c:\\users\\arpan\\anaconda3\\lib\\site-packages (from pandas-flavor->pingouin) (2023.6.0)\n",
      "Requirement already satisfied: patsy>=0.5.6 in c:\\users\\arpan\\anaconda3\\lib\\site-packages (from statsmodels->pingouin) (0.5.6)\n",
      "Requirement already satisfied: six in c:\\users\\arpan\\anaconda3\\lib\\site-packages (from patsy>=0.5.6->statsmodels->pingouin) (1.16.0)\n",
      "Downloading pingouin-0.5.5-py3-none-any.whl (204 kB)\n",
      "Downloading pandas_flavor-0.7.0-py3-none-any.whl (8.4 kB)\n",
      "Installing collected packages: pandas-flavor, pingouin\n",
      "Successfully installed pandas-flavor-0.7.0 pingouin-0.5.5\n"
     ]
    }
   ],
   "source": [
    "!pip install pingouin"
   ]
  },
  {
   "cell_type": "code",
   "execution_count": 55,
   "id": "3b91dec2-4661-4e57-9cc1-b137d534340f",
   "metadata": {},
   "outputs": [],
   "source": [
    "import pingouin as pg"
   ]
  },
  {
   "cell_type": "code",
   "execution_count": 59,
   "id": "6f035e9e-0ea8-4048-b287-cf9ab6ddec50",
   "metadata": {},
   "outputs": [],
   "source": [
    "df = df.dropna(subset=['SalesVol', 'Promotion', 'TVGrP', 'InstoreAds', 'DigitalAds', 'OutdoorAds'])"
   ]
  },
  {
   "cell_type": "code",
   "execution_count": 71,
   "id": "3eee6a65-86af-4597-a956-119776648aa1",
   "metadata": {},
   "outputs": [],
   "source": [
    "partial_corr = pg.partial_corr(data=df, x='SalesVol', y='Promotion', covar=['TVGrP', 'InstoreAds', 'DigitalAds', 'OutdoorAds'])"
   ]
  },
  {
   "cell_type": "code",
   "execution_count": 72,
   "id": "0b8e2b16-2341-42df-9444-d9c0fc30a412",
   "metadata": {},
   "outputs": [
    {
     "data": {
      "text/html": [
       "<div>\n",
       "<style scoped>\n",
       "    .dataframe tbody tr th:only-of-type {\n",
       "        vertical-align: middle;\n",
       "    }\n",
       "\n",
       "    .dataframe tbody tr th {\n",
       "        vertical-align: top;\n",
       "    }\n",
       "\n",
       "    .dataframe thead th {\n",
       "        text-align: right;\n",
       "    }\n",
       "</style>\n",
       "<table border=\"1\" class=\"dataframe\">\n",
       "  <thead>\n",
       "    <tr style=\"text-align: right;\">\n",
       "      <th></th>\n",
       "      <th>n</th>\n",
       "      <th>r</th>\n",
       "      <th>CI95%</th>\n",
       "      <th>p-val</th>\n",
       "    </tr>\n",
       "  </thead>\n",
       "  <tbody>\n",
       "    <tr>\n",
       "      <th>pearson</th>\n",
       "      <td>45</td>\n",
       "      <td>0.129804</td>\n",
       "      <td>[-0.19, 0.42]</td>\n",
       "      <td>0.418583</td>\n",
       "    </tr>\n",
       "  </tbody>\n",
       "</table>\n",
       "</div>"
      ],
      "text/plain": [
       "          n         r          CI95%     p-val\n",
       "pearson  45  0.129804  [-0.19, 0.42]  0.418583"
      ]
     },
     "execution_count": 72,
     "metadata": {},
     "output_type": "execute_result"
    }
   ],
   "source": [
    "partial_corr"
   ]
  },
  {
   "cell_type": "code",
   "execution_count": 68,
   "id": "0fd28218-3211-4e4f-b388-3c5dd0f2ac20",
   "metadata": {},
   "outputs": [
    {
     "name": "stdout",
     "output_type": "stream",
     "text": [
      "Correlation between Promotion and TVGrP: 0.07894271732479761\n",
      "Correlation between Promotion and InstoreAds: 0.1776991441599835\n",
      "Correlation between Promotion and DigitalAds: 0.15216995846443668\n",
      "Correlation between Promotion and OutdoorAds: -0.10782969211043276\n"
     ]
    },
    {
     "name": "stderr",
     "output_type": "stream",
     "text": [
      "C:\\Users\\ARPAN\\AppData\\Local\\Temp\\ipykernel_18764\\3979152123.py:3: FutureWarning: Series.__getitem__ treating keys as positions is deprecated. In a future version, integer keys will always be treated as labels (consistent with DataFrame behavior). To access a value by position, use `ser.iloc[pos]`\n",
      "  print(f\"Correlation between Promotion and {col}: {corr_y_z['r'][0]}\")\n",
      "C:\\Users\\ARPAN\\AppData\\Local\\Temp\\ipykernel_18764\\3979152123.py:3: FutureWarning: Series.__getitem__ treating keys as positions is deprecated. In a future version, integer keys will always be treated as labels (consistent with DataFrame behavior). To access a value by position, use `ser.iloc[pos]`\n",
      "  print(f\"Correlation between Promotion and {col}: {corr_y_z['r'][0]}\")\n",
      "C:\\Users\\ARPAN\\AppData\\Local\\Temp\\ipykernel_18764\\3979152123.py:3: FutureWarning: Series.__getitem__ treating keys as positions is deprecated. In a future version, integer keys will always be treated as labels (consistent with DataFrame behavior). To access a value by position, use `ser.iloc[pos]`\n",
      "  print(f\"Correlation between Promotion and {col}: {corr_y_z['r'][0]}\")\n",
      "C:\\Users\\ARPAN\\AppData\\Local\\Temp\\ipykernel_18764\\3979152123.py:3: FutureWarning: Series.__getitem__ treating keys as positions is deprecated. In a future version, integer keys will always be treated as labels (consistent with DataFrame behavior). To access a value by position, use `ser.iloc[pos]`\n",
      "  print(f\"Correlation between Promotion and {col}: {corr_y_z['r'][0]}\")\n"
     ]
    }
   ],
   "source": [
    "for col in ['TVGrP', 'InstoreAds', 'DigitalAds', 'OutdoorAds']:\n",
    "    corr_y_z = pg.corr(data=df, x=df['Promotion'], y=df[col])\n",
    "    print(f\"Correlation between Promotion and {col}: {corr_y_z['r'][0]}\")"
   ]
  },
  {
   "cell_type": "code",
   "execution_count": 70,
   "id": "36877909-1c88-46db-9f61-85a581499d68",
   "metadata": {},
   "outputs": [
    {
     "name": "stdout",
     "output_type": "stream",
     "text": [
      "Correlation between SalesVol and TVGrP: 0.3420760605420232\n",
      "Correlation between SalesVol and InstoreAds: 0.3509667410614056\n",
      "Correlation between SalesVol and DigitalAds: 0.07806994780633267\n",
      "Correlation between SalesVol and OutdoorAds: 0.4491987278953287\n"
     ]
    },
    {
     "name": "stderr",
     "output_type": "stream",
     "text": [
      "C:\\Users\\ARPAN\\AppData\\Local\\Temp\\ipykernel_18764\\3468422489.py:3: FutureWarning: Series.__getitem__ treating keys as positions is deprecated. In a future version, integer keys will always be treated as labels (consistent with DataFrame behavior). To access a value by position, use `ser.iloc[pos]`\n",
      "  print(f\"Correlation between SalesVol and {col}: {corr_y_z['r'][0]}\")\n",
      "C:\\Users\\ARPAN\\AppData\\Local\\Temp\\ipykernel_18764\\3468422489.py:3: FutureWarning: Series.__getitem__ treating keys as positions is deprecated. In a future version, integer keys will always be treated as labels (consistent with DataFrame behavior). To access a value by position, use `ser.iloc[pos]`\n",
      "  print(f\"Correlation between SalesVol and {col}: {corr_y_z['r'][0]}\")\n",
      "C:\\Users\\ARPAN\\AppData\\Local\\Temp\\ipykernel_18764\\3468422489.py:3: FutureWarning: Series.__getitem__ treating keys as positions is deprecated. In a future version, integer keys will always be treated as labels (consistent with DataFrame behavior). To access a value by position, use `ser.iloc[pos]`\n",
      "  print(f\"Correlation between SalesVol and {col}: {corr_y_z['r'][0]}\")\n",
      "C:\\Users\\ARPAN\\AppData\\Local\\Temp\\ipykernel_18764\\3468422489.py:3: FutureWarning: Series.__getitem__ treating keys as positions is deprecated. In a future version, integer keys will always be treated as labels (consistent with DataFrame behavior). To access a value by position, use `ser.iloc[pos]`\n",
      "  print(f\"Correlation between SalesVol and {col}: {corr_y_z['r'][0]}\")\n"
     ]
    }
   ],
   "source": [
    "for col in ['TVGrP', 'InstoreAds', 'DigitalAds', 'OutdoorAds']:\n",
    "    corr_y_z = pg.corr(data=df, x=df['SalesVol'], y=df[col])\n",
    "    print(f\"Correlation between SalesVol and {col}: {corr_y_z['r'][0]}\")"
   ]
  },
  {
   "cell_type": "markdown",
   "id": "271e03fd-ed5e-4b32-9cd1-f5ece0413b6c",
   "metadata": {},
   "source": [
    "The Pearson correlation between SalesVol and TVGrP is 0.3420760605420232, indicating a moderate positive relationship.\n",
    "The Pearson correlation between SalesVol and InstoreAds is 0.3509667410614056, also indicating a moderate positive relationship.\n",
    "The Pearson correlation between SalesVol and DigitalAds is 0.07806994780633267, suggesting a weak positive relationship.\n",
    "The Pearson correlation between SalesVol and OutdoorAds is 0.4491987278953287, indicating a moderate to strong positive relationship.\n",
    "Partial Correlation:\n",
    "\n",
    "The partial correlation between SalesVol and Promotion, controlling for TVGrP, InstoreAds, DigitalAds, and OutdoorAds, is 0.129804.\n",
    "The 95% confidence interval for this partial correlation is [-0.19, 0.42], and the p-value is 0.418583.\n",
    "Interpretation:\n",
    "\n",
    "The partial correlation of 0.129804 suggests a weak positive relationship between SalesVol and Promotion, after controlling for the effects of TVGrP, InstoreAds, DigitalAds, and OutdoorAds.\n",
    "However, the 95% confidence interval includes zero, and the p-value of 0.418583 is greater than the commonly used significance level of 0.05. This means that the partial correlation is not statistically significant, and we cannot conclude that there is a significant relationship between SalesVol and Promotion after controlling for the other variables.\n",
    "In summary, the Pearson correlations suggest that SalesVol has moderate to strong positive relationships with TVGrP, InstoreAds, and OutdoorAds, but a weak positive relationship with DigitalAds. The partial correlation analysis indicates that the relationship between SalesVol and Promotion is not statistically significant after accounting for the effects of the other advertising variables. This suggests that the observed correlation between SalesVol and Promotion may be largely due to the influence of the other advertising variables."
   ]
  },
  {
   "cell_type": "markdown",
   "id": "a7b19ebb-2986-4e78-84c6-8b919f582f1d",
   "metadata": {},
   "source": [
    "### 7) Which competitor and their media affect our sales the most?"
   ]
  },
  {
   "cell_type": "code",
   "execution_count": 77,
   "id": "9cf858b4-5e64-46c6-8f2f-a0ae86e5111b",
   "metadata": {},
   "outputs": [],
   "source": [
    "import statsmodels.api as sm"
   ]
  },
  {
   "cell_type": "code",
   "execution_count": 78,
   "id": "91b5be1a-e4a1-4b40-add4-44d19c385e8d",
   "metadata": {},
   "outputs": [
    {
     "name": "stdout",
     "output_type": "stream",
     "text": [
      "                            OLS Regression Results                            \n",
      "==============================================================================\n",
      "Dep. Variable:               SalesVol   R-squared:                       0.145\n",
      "Model:                            OLS   Adj. R-squared:                  0.060\n",
      "Method:                 Least Squares   F-statistic:                     1.702\n",
      "Date:                Sun, 15 Jun 2025   Prob (F-statistic):              0.169\n",
      "Time:                        03:09:16   Log-Likelihood:                -379.67\n",
      "No. Observations:                  45   AIC:                             769.3\n",
      "Df Residuals:                      40   BIC:                             778.4\n",
      "Df Model:                           4                                         \n",
      "Covariance Type:            nonrobust                                         \n",
      "================================================================================\n",
      "                   coef    std err          t      P>|t|      [0.025      0.975]\n",
      "--------------------------------------------------------------------------------\n",
      "const         8982.4459    361.716     24.833      0.000    8251.391    9713.500\n",
      "Comp1TV        -22.6458     29.134     -0.777      0.442     -81.528      36.236\n",
      "Comp1NPapers -9.921e-06   4.32e-05     -0.230      0.819   -9.72e-05    7.74e-05\n",
      "Comp1OOH     -1813.1110    917.443     -1.976      0.055   -3667.332      41.110\n",
      "Comp2NP      -1.251e-05   2.08e-05     -0.603      0.550   -5.45e-05    2.94e-05\n",
      "==============================================================================\n",
      "Omnibus:                        0.007   Durbin-Watson:                   0.684\n",
      "Prob(Omnibus):                  0.996   Jarque-Bera (JB):                0.153\n",
      "Skew:                          -0.020   Prob(JB):                        0.926\n",
      "Kurtosis:                       2.717   Cond. No.                     5.27e+07\n",
      "==============================================================================\n",
      "\n",
      "Notes:\n",
      "[1] Standard Errors assume that the covariance matrix of the errors is correctly specified.\n",
      "[2] The condition number is large, 5.27e+07. This might indicate that there are\n",
      "strong multicollinearity or other numerical problems.\n"
     ]
    }
   ],
   "source": [
    "# Define independent variables (competitor spends)\n",
    "X = df[['Comp1TV', 'Comp1NPapers', 'Comp1OOH', 'Comp2NP']]\n",
    "y = df['SalesVol']\n",
    "\n",
    "# Fit the model\n",
    "model = sm.OLS(y, sm.add_constant(X)).fit()\n",
    "print(model.summary())"
   ]
  },
  {
   "cell_type": "markdown",
   "id": "5b8f5e0e-1790-467b-9075-cdbda273a4b4",
   "metadata": {},
   "source": [
    "Based on the OLS regression results, the competitor media that appears to have the biggest impact on our sales volume is Comp1OOH (Out-of-Home advertising).\n",
    "\n",
    "The key points:\n",
    "\n",
    "The coefficient for Comp1OOH (-1813.1110) has the largest magnitude among the independent variables. This suggests that a one-unit increase in Comp1OOH (i.e., competitor's out-of-home advertising spend) is associated with a decrease of 1813.1110 units in our sales volume, holding all other variables constant.\n",
    "\n",
    "The p-value for Comp1OOH (0.055) is the lowest among the independent variables, though it is still not statistically significant at the 5% level. This indicates that Comp1OOH has the strongest relationship with our sales volume compared to the other competitor media variables in the model.\n",
    "\n",
    "The other competitor media variables (Comp1TV, Comp1NPapers, Comp2NP) have much smaller coefficients and higher p-values, suggesting they have a weaker impact on our sales volume.\n",
    "\n",
    "Therefore, based on the regression results, the competitor's out-of-home (OOH) advertising appears to be the media that affects our sales volume the most. This could be an area to further investigate and potentially adjust our own marketing strategy to better compete with the competitor's OOH campaigns."
   ]
  },
  {
   "cell_type": "code",
   "execution_count": 84,
   "id": "490a4026-aee2-4433-9351-4c873df90db1",
   "metadata": {},
   "outputs": [
    {
     "name": "stderr",
     "output_type": "stream",
     "text": [
      "C:\\Users\\ARPAN\\AppData\\Local\\Temp\\ipykernel_18764\\2455270424.py:8: FutureWarning: Series.__getitem__ treating keys as positions is deprecated. In a future version, integer keys will always be treated as labels (consistent with DataFrame behavior). To access a value by position, use `ser.iloc[pos]`\n",
      "  df['Adstock'][0] = df['TVGrP'][0]**n / (df['TVGrP'][0]**n + k**n)\n",
      "C:\\Users\\ARPAN\\AppData\\Local\\Temp\\ipykernel_18764\\2455270424.py:8: FutureWarning: ChainedAssignmentError: behaviour will change in pandas 3.0!\n",
      "You are setting values through chained assignment. Currently this works in certain cases, but when using Copy-on-Write (which will become the default behaviour in pandas 3.0) this will never work to update the original DataFrame or Series, because the intermediate object on which we are setting values will behave as a copy.\n",
      "A typical example is when you are setting values in a column of a DataFrame, like:\n",
      "\n",
      "df[\"col\"][row_indexer] = value\n",
      "\n",
      "Use `df.loc[row_indexer, \"col\"] = values` instead, to perform the assignment in a single step and ensure this keeps updating the original `df`.\n",
      "\n",
      "See the caveats in the documentation: https://pandas.pydata.org/pandas-docs/stable/user_guide/indexing.html#returning-a-view-versus-a-copy\n",
      "\n",
      "  df['Adstock'][0] = df['TVGrP'][0]**n / (df['TVGrP'][0]**n + k**n)\n",
      "C:\\Users\\ARPAN\\AppData\\Local\\Temp\\ipykernel_18764\\2455270424.py:8: FutureWarning: Series.__setitem__ treating keys as positions is deprecated. In a future version, integer keys will always be treated as labels (consistent with DataFrame behavior). To set a value by position, use `ser.iloc[pos] = value`\n",
      "  df['Adstock'][0] = df['TVGrP'][0]**n / (df['TVGrP'][0]**n + k**n)\n",
      "C:\\Users\\ARPAN\\AppData\\Local\\Temp\\ipykernel_18764\\2455270424.py:10: FutureWarning: Series.__getitem__ treating keys as positions is deprecated. In a future version, integer keys will always be treated as labels (consistent with DataFrame behavior). To access a value by position, use `ser.iloc[pos]`\n",
      "  df['Adstock'][i] = L * df['Adstock'][i-1] + df['TVGrP'][i]**n / (df['TVGrP'][i]**n + k**n)\n",
      "C:\\Users\\ARPAN\\AppData\\Local\\Temp\\ipykernel_18764\\2455270424.py:10: FutureWarning: Series.__setitem__ treating keys as positions is deprecated. In a future version, integer keys will always be treated as labels (consistent with DataFrame behavior). To set a value by position, use `ser.iloc[pos] = value`\n",
      "  df['Adstock'][i] = L * df['Adstock'][i-1] + df['TVGrP'][i]**n / (df['TVGrP'][i]**n + k**n)\n",
      "C:\\Users\\ARPAN\\AppData\\Local\\Temp\\ipykernel_18764\\2455270424.py:10: FutureWarning: Series.__getitem__ treating keys as positions is deprecated. In a future version, integer keys will always be treated as labels (consistent with DataFrame behavior). To access a value by position, use `ser.iloc[pos]`\n",
      "  df['Adstock'][i] = L * df['Adstock'][i-1] + df['TVGrP'][i]**n / (df['TVGrP'][i]**n + k**n)\n",
      "C:\\Users\\ARPAN\\AppData\\Local\\Temp\\ipykernel_18764\\2455270424.py:10: FutureWarning: Series.__setitem__ treating keys as positions is deprecated. In a future version, integer keys will always be treated as labels (consistent with DataFrame behavior). To set a value by position, use `ser.iloc[pos] = value`\n",
      "  df['Adstock'][i] = L * df['Adstock'][i-1] + df['TVGrP'][i]**n / (df['TVGrP'][i]**n + k**n)\n",
      "C:\\Users\\ARPAN\\AppData\\Local\\Temp\\ipykernel_18764\\2455270424.py:10: FutureWarning: Series.__getitem__ treating keys as positions is deprecated. In a future version, integer keys will always be treated as labels (consistent with DataFrame behavior). To access a value by position, use `ser.iloc[pos]`\n",
      "  df['Adstock'][i] = L * df['Adstock'][i-1] + df['TVGrP'][i]**n / (df['TVGrP'][i]**n + k**n)\n",
      "C:\\Users\\ARPAN\\AppData\\Local\\Temp\\ipykernel_18764\\2455270424.py:10: FutureWarning: Series.__setitem__ treating keys as positions is deprecated. In a future version, integer keys will always be treated as labels (consistent with DataFrame behavior). To set a value by position, use `ser.iloc[pos] = value`\n",
      "  df['Adstock'][i] = L * df['Adstock'][i-1] + df['TVGrP'][i]**n / (df['TVGrP'][i]**n + k**n)\n",
      "C:\\Users\\ARPAN\\AppData\\Local\\Temp\\ipykernel_18764\\2455270424.py:10: FutureWarning: Series.__getitem__ treating keys as positions is deprecated. In a future version, integer keys will always be treated as labels (consistent with DataFrame behavior). To access a value by position, use `ser.iloc[pos]`\n",
      "  df['Adstock'][i] = L * df['Adstock'][i-1] + df['TVGrP'][i]**n / (df['TVGrP'][i]**n + k**n)\n",
      "C:\\Users\\ARPAN\\AppData\\Local\\Temp\\ipykernel_18764\\2455270424.py:10: FutureWarning: Series.__setitem__ treating keys as positions is deprecated. In a future version, integer keys will always be treated as labels (consistent with DataFrame behavior). To set a value by position, use `ser.iloc[pos] = value`\n",
      "  df['Adstock'][i] = L * df['Adstock'][i-1] + df['TVGrP'][i]**n / (df['TVGrP'][i]**n + k**n)\n",
      "C:\\Users\\ARPAN\\AppData\\Local\\Temp\\ipykernel_18764\\2455270424.py:10: FutureWarning: Series.__getitem__ treating keys as positions is deprecated. In a future version, integer keys will always be treated as labels (consistent with DataFrame behavior). To access a value by position, use `ser.iloc[pos]`\n",
      "  df['Adstock'][i] = L * df['Adstock'][i-1] + df['TVGrP'][i]**n / (df['TVGrP'][i]**n + k**n)\n",
      "C:\\Users\\ARPAN\\AppData\\Local\\Temp\\ipykernel_18764\\2455270424.py:10: FutureWarning: Series.__setitem__ treating keys as positions is deprecated. In a future version, integer keys will always be treated as labels (consistent with DataFrame behavior). To set a value by position, use `ser.iloc[pos] = value`\n",
      "  df['Adstock'][i] = L * df['Adstock'][i-1] + df['TVGrP'][i]**n / (df['TVGrP'][i]**n + k**n)\n",
      "C:\\Users\\ARPAN\\AppData\\Local\\Temp\\ipykernel_18764\\2455270424.py:10: FutureWarning: Series.__getitem__ treating keys as positions is deprecated. In a future version, integer keys will always be treated as labels (consistent with DataFrame behavior). To access a value by position, use `ser.iloc[pos]`\n",
      "  df['Adstock'][i] = L * df['Adstock'][i-1] + df['TVGrP'][i]**n / (df['TVGrP'][i]**n + k**n)\n",
      "C:\\Users\\ARPAN\\AppData\\Local\\Temp\\ipykernel_18764\\2455270424.py:10: FutureWarning: Series.__setitem__ treating keys as positions is deprecated. In a future version, integer keys will always be treated as labels (consistent with DataFrame behavior). To set a value by position, use `ser.iloc[pos] = value`\n",
      "  df['Adstock'][i] = L * df['Adstock'][i-1] + df['TVGrP'][i]**n / (df['TVGrP'][i]**n + k**n)\n",
      "C:\\Users\\ARPAN\\AppData\\Local\\Temp\\ipykernel_18764\\2455270424.py:10: FutureWarning: Series.__getitem__ treating keys as positions is deprecated. In a future version, integer keys will always be treated as labels (consistent with DataFrame behavior). To access a value by position, use `ser.iloc[pos]`\n",
      "  df['Adstock'][i] = L * df['Adstock'][i-1] + df['TVGrP'][i]**n / (df['TVGrP'][i]**n + k**n)\n",
      "C:\\Users\\ARPAN\\AppData\\Local\\Temp\\ipykernel_18764\\2455270424.py:10: FutureWarning: Series.__setitem__ treating keys as positions is deprecated. In a future version, integer keys will always be treated as labels (consistent with DataFrame behavior). To set a value by position, use `ser.iloc[pos] = value`\n",
      "  df['Adstock'][i] = L * df['Adstock'][i-1] + df['TVGrP'][i]**n / (df['TVGrP'][i]**n + k**n)\n",
      "C:\\Users\\ARPAN\\AppData\\Local\\Temp\\ipykernel_18764\\2455270424.py:10: FutureWarning: Series.__getitem__ treating keys as positions is deprecated. In a future version, integer keys will always be treated as labels (consistent with DataFrame behavior). To access a value by position, use `ser.iloc[pos]`\n",
      "  df['Adstock'][i] = L * df['Adstock'][i-1] + df['TVGrP'][i]**n / (df['TVGrP'][i]**n + k**n)\n",
      "C:\\Users\\ARPAN\\AppData\\Local\\Temp\\ipykernel_18764\\2455270424.py:10: FutureWarning: Series.__setitem__ treating keys as positions is deprecated. In a future version, integer keys will always be treated as labels (consistent with DataFrame behavior). To set a value by position, use `ser.iloc[pos] = value`\n",
      "  df['Adstock'][i] = L * df['Adstock'][i-1] + df['TVGrP'][i]**n / (df['TVGrP'][i]**n + k**n)\n",
      "C:\\Users\\ARPAN\\AppData\\Local\\Temp\\ipykernel_18764\\2455270424.py:10: FutureWarning: Series.__getitem__ treating keys as positions is deprecated. In a future version, integer keys will always be treated as labels (consistent with DataFrame behavior). To access a value by position, use `ser.iloc[pos]`\n",
      "  df['Adstock'][i] = L * df['Adstock'][i-1] + df['TVGrP'][i]**n / (df['TVGrP'][i]**n + k**n)\n",
      "C:\\Users\\ARPAN\\AppData\\Local\\Temp\\ipykernel_18764\\2455270424.py:10: FutureWarning: Series.__setitem__ treating keys as positions is deprecated. In a future version, integer keys will always be treated as labels (consistent with DataFrame behavior). To set a value by position, use `ser.iloc[pos] = value`\n",
      "  df['Adstock'][i] = L * df['Adstock'][i-1] + df['TVGrP'][i]**n / (df['TVGrP'][i]**n + k**n)\n",
      "C:\\Users\\ARPAN\\AppData\\Local\\Temp\\ipykernel_18764\\2455270424.py:10: FutureWarning: Series.__getitem__ treating keys as positions is deprecated. In a future version, integer keys will always be treated as labels (consistent with DataFrame behavior). To access a value by position, use `ser.iloc[pos]`\n",
      "  df['Adstock'][i] = L * df['Adstock'][i-1] + df['TVGrP'][i]**n / (df['TVGrP'][i]**n + k**n)\n",
      "C:\\Users\\ARPAN\\AppData\\Local\\Temp\\ipykernel_18764\\2455270424.py:10: FutureWarning: Series.__setitem__ treating keys as positions is deprecated. In a future version, integer keys will always be treated as labels (consistent with DataFrame behavior). To set a value by position, use `ser.iloc[pos] = value`\n",
      "  df['Adstock'][i] = L * df['Adstock'][i-1] + df['TVGrP'][i]**n / (df['TVGrP'][i]**n + k**n)\n",
      "C:\\Users\\ARPAN\\AppData\\Local\\Temp\\ipykernel_18764\\2455270424.py:10: FutureWarning: Series.__getitem__ treating keys as positions is deprecated. In a future version, integer keys will always be treated as labels (consistent with DataFrame behavior). To access a value by position, use `ser.iloc[pos]`\n",
      "  df['Adstock'][i] = L * df['Adstock'][i-1] + df['TVGrP'][i]**n / (df['TVGrP'][i]**n + k**n)\n",
      "C:\\Users\\ARPAN\\AppData\\Local\\Temp\\ipykernel_18764\\2455270424.py:10: FutureWarning: Series.__setitem__ treating keys as positions is deprecated. In a future version, integer keys will always be treated as labels (consistent with DataFrame behavior). To set a value by position, use `ser.iloc[pos] = value`\n",
      "  df['Adstock'][i] = L * df['Adstock'][i-1] + df['TVGrP'][i]**n / (df['TVGrP'][i]**n + k**n)\n",
      "C:\\Users\\ARPAN\\AppData\\Local\\Temp\\ipykernel_18764\\2455270424.py:10: FutureWarning: Series.__getitem__ treating keys as positions is deprecated. In a future version, integer keys will always be treated as labels (consistent with DataFrame behavior). To access a value by position, use `ser.iloc[pos]`\n",
      "  df['Adstock'][i] = L * df['Adstock'][i-1] + df['TVGrP'][i]**n / (df['TVGrP'][i]**n + k**n)\n",
      "C:\\Users\\ARPAN\\AppData\\Local\\Temp\\ipykernel_18764\\2455270424.py:10: FutureWarning: Series.__setitem__ treating keys as positions is deprecated. In a future version, integer keys will always be treated as labels (consistent with DataFrame behavior). To set a value by position, use `ser.iloc[pos] = value`\n",
      "  df['Adstock'][i] = L * df['Adstock'][i-1] + df['TVGrP'][i]**n / (df['TVGrP'][i]**n + k**n)\n",
      "C:\\Users\\ARPAN\\AppData\\Local\\Temp\\ipykernel_18764\\2455270424.py:10: FutureWarning: Series.__getitem__ treating keys as positions is deprecated. In a future version, integer keys will always be treated as labels (consistent with DataFrame behavior). To access a value by position, use `ser.iloc[pos]`\n",
      "  df['Adstock'][i] = L * df['Adstock'][i-1] + df['TVGrP'][i]**n / (df['TVGrP'][i]**n + k**n)\n",
      "C:\\Users\\ARPAN\\AppData\\Local\\Temp\\ipykernel_18764\\2455270424.py:10: FutureWarning: Series.__setitem__ treating keys as positions is deprecated. In a future version, integer keys will always be treated as labels (consistent with DataFrame behavior). To set a value by position, use `ser.iloc[pos] = value`\n",
      "  df['Adstock'][i] = L * df['Adstock'][i-1] + df['TVGrP'][i]**n / (df['TVGrP'][i]**n + k**n)\n",
      "C:\\Users\\ARPAN\\AppData\\Local\\Temp\\ipykernel_18764\\2455270424.py:10: FutureWarning: Series.__getitem__ treating keys as positions is deprecated. In a future version, integer keys will always be treated as labels (consistent with DataFrame behavior). To access a value by position, use `ser.iloc[pos]`\n",
      "  df['Adstock'][i] = L * df['Adstock'][i-1] + df['TVGrP'][i]**n / (df['TVGrP'][i]**n + k**n)\n",
      "C:\\Users\\ARPAN\\AppData\\Local\\Temp\\ipykernel_18764\\2455270424.py:10: FutureWarning: Series.__setitem__ treating keys as positions is deprecated. In a future version, integer keys will always be treated as labels (consistent with DataFrame behavior). To set a value by position, use `ser.iloc[pos] = value`\n",
      "  df['Adstock'][i] = L * df['Adstock'][i-1] + df['TVGrP'][i]**n / (df['TVGrP'][i]**n + k**n)\n",
      "C:\\Users\\ARPAN\\AppData\\Local\\Temp\\ipykernel_18764\\2455270424.py:10: FutureWarning: Series.__getitem__ treating keys as positions is deprecated. In a future version, integer keys will always be treated as labels (consistent with DataFrame behavior). To access a value by position, use `ser.iloc[pos]`\n",
      "  df['Adstock'][i] = L * df['Adstock'][i-1] + df['TVGrP'][i]**n / (df['TVGrP'][i]**n + k**n)\n",
      "C:\\Users\\ARPAN\\AppData\\Local\\Temp\\ipykernel_18764\\2455270424.py:10: FutureWarning: Series.__setitem__ treating keys as positions is deprecated. In a future version, integer keys will always be treated as labels (consistent with DataFrame behavior). To set a value by position, use `ser.iloc[pos] = value`\n",
      "  df['Adstock'][i] = L * df['Adstock'][i-1] + df['TVGrP'][i]**n / (df['TVGrP'][i]**n + k**n)\n",
      "C:\\Users\\ARPAN\\AppData\\Local\\Temp\\ipykernel_18764\\2455270424.py:10: FutureWarning: Series.__getitem__ treating keys as positions is deprecated. In a future version, integer keys will always be treated as labels (consistent with DataFrame behavior). To access a value by position, use `ser.iloc[pos]`\n",
      "  df['Adstock'][i] = L * df['Adstock'][i-1] + df['TVGrP'][i]**n / (df['TVGrP'][i]**n + k**n)\n",
      "C:\\Users\\ARPAN\\AppData\\Local\\Temp\\ipykernel_18764\\2455270424.py:10: FutureWarning: Series.__setitem__ treating keys as positions is deprecated. In a future version, integer keys will always be treated as labels (consistent with DataFrame behavior). To set a value by position, use `ser.iloc[pos] = value`\n",
      "  df['Adstock'][i] = L * df['Adstock'][i-1] + df['TVGrP'][i]**n / (df['TVGrP'][i]**n + k**n)\n",
      "C:\\Users\\ARPAN\\AppData\\Local\\Temp\\ipykernel_18764\\2455270424.py:10: FutureWarning: Series.__getitem__ treating keys as positions is deprecated. In a future version, integer keys will always be treated as labels (consistent with DataFrame behavior). To access a value by position, use `ser.iloc[pos]`\n",
      "  df['Adstock'][i] = L * df['Adstock'][i-1] + df['TVGrP'][i]**n / (df['TVGrP'][i]**n + k**n)\n",
      "C:\\Users\\ARPAN\\AppData\\Local\\Temp\\ipykernel_18764\\2455270424.py:10: FutureWarning: Series.__setitem__ treating keys as positions is deprecated. In a future version, integer keys will always be treated as labels (consistent with DataFrame behavior). To set a value by position, use `ser.iloc[pos] = value`\n",
      "  df['Adstock'][i] = L * df['Adstock'][i-1] + df['TVGrP'][i]**n / (df['TVGrP'][i]**n + k**n)\n",
      "C:\\Users\\ARPAN\\AppData\\Local\\Temp\\ipykernel_18764\\2455270424.py:10: FutureWarning: Series.__getitem__ treating keys as positions is deprecated. In a future version, integer keys will always be treated as labels (consistent with DataFrame behavior). To access a value by position, use `ser.iloc[pos]`\n",
      "  df['Adstock'][i] = L * df['Adstock'][i-1] + df['TVGrP'][i]**n / (df['TVGrP'][i]**n + k**n)\n",
      "C:\\Users\\ARPAN\\AppData\\Local\\Temp\\ipykernel_18764\\2455270424.py:10: FutureWarning: Series.__setitem__ treating keys as positions is deprecated. In a future version, integer keys will always be treated as labels (consistent with DataFrame behavior). To set a value by position, use `ser.iloc[pos] = value`\n",
      "  df['Adstock'][i] = L * df['Adstock'][i-1] + df['TVGrP'][i]**n / (df['TVGrP'][i]**n + k**n)\n",
      "C:\\Users\\ARPAN\\AppData\\Local\\Temp\\ipykernel_18764\\2455270424.py:10: FutureWarning: Series.__getitem__ treating keys as positions is deprecated. In a future version, integer keys will always be treated as labels (consistent with DataFrame behavior). To access a value by position, use `ser.iloc[pos]`\n",
      "  df['Adstock'][i] = L * df['Adstock'][i-1] + df['TVGrP'][i]**n / (df['TVGrP'][i]**n + k**n)\n",
      "C:\\Users\\ARPAN\\AppData\\Local\\Temp\\ipykernel_18764\\2455270424.py:10: FutureWarning: Series.__setitem__ treating keys as positions is deprecated. In a future version, integer keys will always be treated as labels (consistent with DataFrame behavior). To set a value by position, use `ser.iloc[pos] = value`\n",
      "  df['Adstock'][i] = L * df['Adstock'][i-1] + df['TVGrP'][i]**n / (df['TVGrP'][i]**n + k**n)\n",
      "C:\\Users\\ARPAN\\AppData\\Local\\Temp\\ipykernel_18764\\2455270424.py:10: FutureWarning: Series.__getitem__ treating keys as positions is deprecated. In a future version, integer keys will always be treated as labels (consistent with DataFrame behavior). To access a value by position, use `ser.iloc[pos]`\n",
      "  df['Adstock'][i] = L * df['Adstock'][i-1] + df['TVGrP'][i]**n / (df['TVGrP'][i]**n + k**n)\n",
      "C:\\Users\\ARPAN\\AppData\\Local\\Temp\\ipykernel_18764\\2455270424.py:10: FutureWarning: Series.__setitem__ treating keys as positions is deprecated. In a future version, integer keys will always be treated as labels (consistent with DataFrame behavior). To set a value by position, use `ser.iloc[pos] = value`\n",
      "  df['Adstock'][i] = L * df['Adstock'][i-1] + df['TVGrP'][i]**n / (df['TVGrP'][i]**n + k**n)\n",
      "C:\\Users\\ARPAN\\AppData\\Local\\Temp\\ipykernel_18764\\2455270424.py:10: FutureWarning: Series.__getitem__ treating keys as positions is deprecated. In a future version, integer keys will always be treated as labels (consistent with DataFrame behavior). To access a value by position, use `ser.iloc[pos]`\n",
      "  df['Adstock'][i] = L * df['Adstock'][i-1] + df['TVGrP'][i]**n / (df['TVGrP'][i]**n + k**n)\n",
      "C:\\Users\\ARPAN\\AppData\\Local\\Temp\\ipykernel_18764\\2455270424.py:10: FutureWarning: Series.__setitem__ treating keys as positions is deprecated. In a future version, integer keys will always be treated as labels (consistent with DataFrame behavior). To set a value by position, use `ser.iloc[pos] = value`\n",
      "  df['Adstock'][i] = L * df['Adstock'][i-1] + df['TVGrP'][i]**n / (df['TVGrP'][i]**n + k**n)\n",
      "C:\\Users\\ARPAN\\AppData\\Local\\Temp\\ipykernel_18764\\2455270424.py:10: FutureWarning: Series.__getitem__ treating keys as positions is deprecated. In a future version, integer keys will always be treated as labels (consistent with DataFrame behavior). To access a value by position, use `ser.iloc[pos]`\n",
      "  df['Adstock'][i] = L * df['Adstock'][i-1] + df['TVGrP'][i]**n / (df['TVGrP'][i]**n + k**n)\n",
      "C:\\Users\\ARPAN\\AppData\\Local\\Temp\\ipykernel_18764\\2455270424.py:10: FutureWarning: Series.__setitem__ treating keys as positions is deprecated. In a future version, integer keys will always be treated as labels (consistent with DataFrame behavior). To set a value by position, use `ser.iloc[pos] = value`\n",
      "  df['Adstock'][i] = L * df['Adstock'][i-1] + df['TVGrP'][i]**n / (df['TVGrP'][i]**n + k**n)\n",
      "C:\\Users\\ARPAN\\AppData\\Local\\Temp\\ipykernel_18764\\2455270424.py:10: FutureWarning: Series.__getitem__ treating keys as positions is deprecated. In a future version, integer keys will always be treated as labels (consistent with DataFrame behavior). To access a value by position, use `ser.iloc[pos]`\n",
      "  df['Adstock'][i] = L * df['Adstock'][i-1] + df['TVGrP'][i]**n / (df['TVGrP'][i]**n + k**n)\n",
      "C:\\Users\\ARPAN\\AppData\\Local\\Temp\\ipykernel_18764\\2455270424.py:10: FutureWarning: Series.__setitem__ treating keys as positions is deprecated. In a future version, integer keys will always be treated as labels (consistent with DataFrame behavior). To set a value by position, use `ser.iloc[pos] = value`\n",
      "  df['Adstock'][i] = L * df['Adstock'][i-1] + df['TVGrP'][i]**n / (df['TVGrP'][i]**n + k**n)\n",
      "C:\\Users\\ARPAN\\AppData\\Local\\Temp\\ipykernel_18764\\2455270424.py:10: FutureWarning: Series.__getitem__ treating keys as positions is deprecated. In a future version, integer keys will always be treated as labels (consistent with DataFrame behavior). To access a value by position, use `ser.iloc[pos]`\n",
      "  df['Adstock'][i] = L * df['Adstock'][i-1] + df['TVGrP'][i]**n / (df['TVGrP'][i]**n + k**n)\n",
      "C:\\Users\\ARPAN\\AppData\\Local\\Temp\\ipykernel_18764\\2455270424.py:10: FutureWarning: Series.__setitem__ treating keys as positions is deprecated. In a future version, integer keys will always be treated as labels (consistent with DataFrame behavior). To set a value by position, use `ser.iloc[pos] = value`\n",
      "  df['Adstock'][i] = L * df['Adstock'][i-1] + df['TVGrP'][i]**n / (df['TVGrP'][i]**n + k**n)\n",
      "C:\\Users\\ARPAN\\AppData\\Local\\Temp\\ipykernel_18764\\2455270424.py:10: FutureWarning: Series.__getitem__ treating keys as positions is deprecated. In a future version, integer keys will always be treated as labels (consistent with DataFrame behavior). To access a value by position, use `ser.iloc[pos]`\n",
      "  df['Adstock'][i] = L * df['Adstock'][i-1] + df['TVGrP'][i]**n / (df['TVGrP'][i]**n + k**n)\n",
      "C:\\Users\\ARPAN\\AppData\\Local\\Temp\\ipykernel_18764\\2455270424.py:10: FutureWarning: Series.__setitem__ treating keys as positions is deprecated. In a future version, integer keys will always be treated as labels (consistent with DataFrame behavior). To set a value by position, use `ser.iloc[pos] = value`\n",
      "  df['Adstock'][i] = L * df['Adstock'][i-1] + df['TVGrP'][i]**n / (df['TVGrP'][i]**n + k**n)\n",
      "C:\\Users\\ARPAN\\AppData\\Local\\Temp\\ipykernel_18764\\2455270424.py:10: FutureWarning: Series.__getitem__ treating keys as positions is deprecated. In a future version, integer keys will always be treated as labels (consistent with DataFrame behavior). To access a value by position, use `ser.iloc[pos]`\n",
      "  df['Adstock'][i] = L * df['Adstock'][i-1] + df['TVGrP'][i]**n / (df['TVGrP'][i]**n + k**n)\n",
      "C:\\Users\\ARPAN\\AppData\\Local\\Temp\\ipykernel_18764\\2455270424.py:10: FutureWarning: Series.__setitem__ treating keys as positions is deprecated. In a future version, integer keys will always be treated as labels (consistent with DataFrame behavior). To set a value by position, use `ser.iloc[pos] = value`\n",
      "  df['Adstock'][i] = L * df['Adstock'][i-1] + df['TVGrP'][i]**n / (df['TVGrP'][i]**n + k**n)\n",
      "C:\\Users\\ARPAN\\AppData\\Local\\Temp\\ipykernel_18764\\2455270424.py:10: FutureWarning: Series.__getitem__ treating keys as positions is deprecated. In a future version, integer keys will always be treated as labels (consistent with DataFrame behavior). To access a value by position, use `ser.iloc[pos]`\n",
      "  df['Adstock'][i] = L * df['Adstock'][i-1] + df['TVGrP'][i]**n / (df['TVGrP'][i]**n + k**n)\n",
      "C:\\Users\\ARPAN\\AppData\\Local\\Temp\\ipykernel_18764\\2455270424.py:10: FutureWarning: Series.__setitem__ treating keys as positions is deprecated. In a future version, integer keys will always be treated as labels (consistent with DataFrame behavior). To set a value by position, use `ser.iloc[pos] = value`\n",
      "  df['Adstock'][i] = L * df['Adstock'][i-1] + df['TVGrP'][i]**n / (df['TVGrP'][i]**n + k**n)\n",
      "C:\\Users\\ARPAN\\AppData\\Local\\Temp\\ipykernel_18764\\2455270424.py:10: FutureWarning: Series.__getitem__ treating keys as positions is deprecated. In a future version, integer keys will always be treated as labels (consistent with DataFrame behavior). To access a value by position, use `ser.iloc[pos]`\n",
      "  df['Adstock'][i] = L * df['Adstock'][i-1] + df['TVGrP'][i]**n / (df['TVGrP'][i]**n + k**n)\n",
      "C:\\Users\\ARPAN\\AppData\\Local\\Temp\\ipykernel_18764\\2455270424.py:10: FutureWarning: Series.__setitem__ treating keys as positions is deprecated. In a future version, integer keys will always be treated as labels (consistent with DataFrame behavior). To set a value by position, use `ser.iloc[pos] = value`\n",
      "  df['Adstock'][i] = L * df['Adstock'][i-1] + df['TVGrP'][i]**n / (df['TVGrP'][i]**n + k**n)\n",
      "C:\\Users\\ARPAN\\AppData\\Local\\Temp\\ipykernel_18764\\2455270424.py:10: FutureWarning: Series.__getitem__ treating keys as positions is deprecated. In a future version, integer keys will always be treated as labels (consistent with DataFrame behavior). To access a value by position, use `ser.iloc[pos]`\n",
      "  df['Adstock'][i] = L * df['Adstock'][i-1] + df['TVGrP'][i]**n / (df['TVGrP'][i]**n + k**n)\n",
      "C:\\Users\\ARPAN\\AppData\\Local\\Temp\\ipykernel_18764\\2455270424.py:10: FutureWarning: Series.__setitem__ treating keys as positions is deprecated. In a future version, integer keys will always be treated as labels (consistent with DataFrame behavior). To set a value by position, use `ser.iloc[pos] = value`\n",
      "  df['Adstock'][i] = L * df['Adstock'][i-1] + df['TVGrP'][i]**n / (df['TVGrP'][i]**n + k**n)\n",
      "C:\\Users\\ARPAN\\AppData\\Local\\Temp\\ipykernel_18764\\2455270424.py:10: FutureWarning: Series.__getitem__ treating keys as positions is deprecated. In a future version, integer keys will always be treated as labels (consistent with DataFrame behavior). To access a value by position, use `ser.iloc[pos]`\n",
      "  df['Adstock'][i] = L * df['Adstock'][i-1] + df['TVGrP'][i]**n / (df['TVGrP'][i]**n + k**n)\n",
      "C:\\Users\\ARPAN\\AppData\\Local\\Temp\\ipykernel_18764\\2455270424.py:10: FutureWarning: Series.__setitem__ treating keys as positions is deprecated. In a future version, integer keys will always be treated as labels (consistent with DataFrame behavior). To set a value by position, use `ser.iloc[pos] = value`\n",
      "  df['Adstock'][i] = L * df['Adstock'][i-1] + df['TVGrP'][i]**n / (df['TVGrP'][i]**n + k**n)\n",
      "C:\\Users\\ARPAN\\AppData\\Local\\Temp\\ipykernel_18764\\2455270424.py:10: FutureWarning: Series.__getitem__ treating keys as positions is deprecated. In a future version, integer keys will always be treated as labels (consistent with DataFrame behavior). To access a value by position, use `ser.iloc[pos]`\n",
      "  df['Adstock'][i] = L * df['Adstock'][i-1] + df['TVGrP'][i]**n / (df['TVGrP'][i]**n + k**n)\n",
      "C:\\Users\\ARPAN\\AppData\\Local\\Temp\\ipykernel_18764\\2455270424.py:10: FutureWarning: Series.__setitem__ treating keys as positions is deprecated. In a future version, integer keys will always be treated as labels (consistent with DataFrame behavior). To set a value by position, use `ser.iloc[pos] = value`\n",
      "  df['Adstock'][i] = L * df['Adstock'][i-1] + df['TVGrP'][i]**n / (df['TVGrP'][i]**n + k**n)\n",
      "C:\\Users\\ARPAN\\AppData\\Local\\Temp\\ipykernel_18764\\2455270424.py:10: FutureWarning: Series.__getitem__ treating keys as positions is deprecated. In a future version, integer keys will always be treated as labels (consistent with DataFrame behavior). To access a value by position, use `ser.iloc[pos]`\n",
      "  df['Adstock'][i] = L * df['Adstock'][i-1] + df['TVGrP'][i]**n / (df['TVGrP'][i]**n + k**n)\n",
      "C:\\Users\\ARPAN\\AppData\\Local\\Temp\\ipykernel_18764\\2455270424.py:10: FutureWarning: Series.__setitem__ treating keys as positions is deprecated. In a future version, integer keys will always be treated as labels (consistent with DataFrame behavior). To set a value by position, use `ser.iloc[pos] = value`\n",
      "  df['Adstock'][i] = L * df['Adstock'][i-1] + df['TVGrP'][i]**n / (df['TVGrP'][i]**n + k**n)\n",
      "C:\\Users\\ARPAN\\AppData\\Local\\Temp\\ipykernel_18764\\2455270424.py:10: FutureWarning: Series.__getitem__ treating keys as positions is deprecated. In a future version, integer keys will always be treated as labels (consistent with DataFrame behavior). To access a value by position, use `ser.iloc[pos]`\n",
      "  df['Adstock'][i] = L * df['Adstock'][i-1] + df['TVGrP'][i]**n / (df['TVGrP'][i]**n + k**n)\n",
      "C:\\Users\\ARPAN\\AppData\\Local\\Temp\\ipykernel_18764\\2455270424.py:10: FutureWarning: Series.__setitem__ treating keys as positions is deprecated. In a future version, integer keys will always be treated as labels (consistent with DataFrame behavior). To set a value by position, use `ser.iloc[pos] = value`\n",
      "  df['Adstock'][i] = L * df['Adstock'][i-1] + df['TVGrP'][i]**n / (df['TVGrP'][i]**n + k**n)\n",
      "C:\\Users\\ARPAN\\AppData\\Local\\Temp\\ipykernel_18764\\2455270424.py:10: FutureWarning: Series.__getitem__ treating keys as positions is deprecated. In a future version, integer keys will always be treated as labels (consistent with DataFrame behavior). To access a value by position, use `ser.iloc[pos]`\n",
      "  df['Adstock'][i] = L * df['Adstock'][i-1] + df['TVGrP'][i]**n / (df['TVGrP'][i]**n + k**n)\n",
      "C:\\Users\\ARPAN\\AppData\\Local\\Temp\\ipykernel_18764\\2455270424.py:10: FutureWarning: Series.__setitem__ treating keys as positions is deprecated. In a future version, integer keys will always be treated as labels (consistent with DataFrame behavior). To set a value by position, use `ser.iloc[pos] = value`\n",
      "  df['Adstock'][i] = L * df['Adstock'][i-1] + df['TVGrP'][i]**n / (df['TVGrP'][i]**n + k**n)\n",
      "C:\\Users\\ARPAN\\AppData\\Local\\Temp\\ipykernel_18764\\2455270424.py:10: FutureWarning: Series.__getitem__ treating keys as positions is deprecated. In a future version, integer keys will always be treated as labels (consistent with DataFrame behavior). To access a value by position, use `ser.iloc[pos]`\n",
      "  df['Adstock'][i] = L * df['Adstock'][i-1] + df['TVGrP'][i]**n / (df['TVGrP'][i]**n + k**n)\n",
      "C:\\Users\\ARPAN\\AppData\\Local\\Temp\\ipykernel_18764\\2455270424.py:10: FutureWarning: Series.__setitem__ treating keys as positions is deprecated. In a future version, integer keys will always be treated as labels (consistent with DataFrame behavior). To set a value by position, use `ser.iloc[pos] = value`\n",
      "  df['Adstock'][i] = L * df['Adstock'][i-1] + df['TVGrP'][i]**n / (df['TVGrP'][i]**n + k**n)\n",
      "C:\\Users\\ARPAN\\AppData\\Local\\Temp\\ipykernel_18764\\2455270424.py:10: FutureWarning: Series.__getitem__ treating keys as positions is deprecated. In a future version, integer keys will always be treated as labels (consistent with DataFrame behavior). To access a value by position, use `ser.iloc[pos]`\n",
      "  df['Adstock'][i] = L * df['Adstock'][i-1] + df['TVGrP'][i]**n / (df['TVGrP'][i]**n + k**n)\n",
      "C:\\Users\\ARPAN\\AppData\\Local\\Temp\\ipykernel_18764\\2455270424.py:10: FutureWarning: Series.__setitem__ treating keys as positions is deprecated. In a future version, integer keys will always be treated as labels (consistent with DataFrame behavior). To set a value by position, use `ser.iloc[pos] = value`\n",
      "  df['Adstock'][i] = L * df['Adstock'][i-1] + df['TVGrP'][i]**n / (df['TVGrP'][i]**n + k**n)\n",
      "C:\\Users\\ARPAN\\AppData\\Local\\Temp\\ipykernel_18764\\2455270424.py:10: FutureWarning: Series.__getitem__ treating keys as positions is deprecated. In a future version, integer keys will always be treated as labels (consistent with DataFrame behavior). To access a value by position, use `ser.iloc[pos]`\n",
      "  df['Adstock'][i] = L * df['Adstock'][i-1] + df['TVGrP'][i]**n / (df['TVGrP'][i]**n + k**n)\n",
      "C:\\Users\\ARPAN\\AppData\\Local\\Temp\\ipykernel_18764\\2455270424.py:10: FutureWarning: Series.__setitem__ treating keys as positions is deprecated. In a future version, integer keys will always be treated as labels (consistent with DataFrame behavior). To set a value by position, use `ser.iloc[pos] = value`\n",
      "  df['Adstock'][i] = L * df['Adstock'][i-1] + df['TVGrP'][i]**n / (df['TVGrP'][i]**n + k**n)\n",
      "C:\\Users\\ARPAN\\AppData\\Local\\Temp\\ipykernel_18764\\2455270424.py:10: FutureWarning: Series.__getitem__ treating keys as positions is deprecated. In a future version, integer keys will always be treated as labels (consistent with DataFrame behavior). To access a value by position, use `ser.iloc[pos]`\n",
      "  df['Adstock'][i] = L * df['Adstock'][i-1] + df['TVGrP'][i]**n / (df['TVGrP'][i]**n + k**n)\n",
      "C:\\Users\\ARPAN\\AppData\\Local\\Temp\\ipykernel_18764\\2455270424.py:10: FutureWarning: Series.__setitem__ treating keys as positions is deprecated. In a future version, integer keys will always be treated as labels (consistent with DataFrame behavior). To set a value by position, use `ser.iloc[pos] = value`\n",
      "  df['Adstock'][i] = L * df['Adstock'][i-1] + df['TVGrP'][i]**n / (df['TVGrP'][i]**n + k**n)\n",
      "C:\\Users\\ARPAN\\AppData\\Local\\Temp\\ipykernel_18764\\2455270424.py:10: FutureWarning: Series.__getitem__ treating keys as positions is deprecated. In a future version, integer keys will always be treated as labels (consistent with DataFrame behavior). To access a value by position, use `ser.iloc[pos]`\n",
      "  df['Adstock'][i] = L * df['Adstock'][i-1] + df['TVGrP'][i]**n / (df['TVGrP'][i]**n + k**n)\n",
      "C:\\Users\\ARPAN\\AppData\\Local\\Temp\\ipykernel_18764\\2455270424.py:10: FutureWarning: Series.__setitem__ treating keys as positions is deprecated. In a future version, integer keys will always be treated as labels (consistent with DataFrame behavior). To set a value by position, use `ser.iloc[pos] = value`\n",
      "  df['Adstock'][i] = L * df['Adstock'][i-1] + df['TVGrP'][i]**n / (df['TVGrP'][i]**n + k**n)\n",
      "C:\\Users\\ARPAN\\AppData\\Local\\Temp\\ipykernel_18764\\2455270424.py:10: FutureWarning: Series.__getitem__ treating keys as positions is deprecated. In a future version, integer keys will always be treated as labels (consistent with DataFrame behavior). To access a value by position, use `ser.iloc[pos]`\n",
      "  df['Adstock'][i] = L * df['Adstock'][i-1] + df['TVGrP'][i]**n / (df['TVGrP'][i]**n + k**n)\n",
      "C:\\Users\\ARPAN\\AppData\\Local\\Temp\\ipykernel_18764\\2455270424.py:10: FutureWarning: Series.__setitem__ treating keys as positions is deprecated. In a future version, integer keys will always be treated as labels (consistent with DataFrame behavior). To set a value by position, use `ser.iloc[pos] = value`\n",
      "  df['Adstock'][i] = L * df['Adstock'][i-1] + df['TVGrP'][i]**n / (df['TVGrP'][i]**n + k**n)\n",
      "C:\\Users\\ARPAN\\AppData\\Local\\Temp\\ipykernel_18764\\2455270424.py:10: FutureWarning: Series.__getitem__ treating keys as positions is deprecated. In a future version, integer keys will always be treated as labels (consistent with DataFrame behavior). To access a value by position, use `ser.iloc[pos]`\n",
      "  df['Adstock'][i] = L * df['Adstock'][i-1] + df['TVGrP'][i]**n / (df['TVGrP'][i]**n + k**n)\n",
      "C:\\Users\\ARPAN\\AppData\\Local\\Temp\\ipykernel_18764\\2455270424.py:10: FutureWarning: Series.__setitem__ treating keys as positions is deprecated. In a future version, integer keys will always be treated as labels (consistent with DataFrame behavior). To set a value by position, use `ser.iloc[pos] = value`\n",
      "  df['Adstock'][i] = L * df['Adstock'][i-1] + df['TVGrP'][i]**n / (df['TVGrP'][i]**n + k**n)\n",
      "C:\\Users\\ARPAN\\AppData\\Local\\Temp\\ipykernel_18764\\2455270424.py:10: FutureWarning: Series.__getitem__ treating keys as positions is deprecated. In a future version, integer keys will always be treated as labels (consistent with DataFrame behavior). To access a value by position, use `ser.iloc[pos]`\n",
      "  df['Adstock'][i] = L * df['Adstock'][i-1] + df['TVGrP'][i]**n / (df['TVGrP'][i]**n + k**n)\n",
      "C:\\Users\\ARPAN\\AppData\\Local\\Temp\\ipykernel_18764\\2455270424.py:10: FutureWarning: Series.__setitem__ treating keys as positions is deprecated. In a future version, integer keys will always be treated as labels (consistent with DataFrame behavior). To set a value by position, use `ser.iloc[pos] = value`\n",
      "  df['Adstock'][i] = L * df['Adstock'][i-1] + df['TVGrP'][i]**n / (df['TVGrP'][i]**n + k**n)\n",
      "C:\\Users\\ARPAN\\AppData\\Local\\Temp\\ipykernel_18764\\2455270424.py:10: FutureWarning: Series.__getitem__ treating keys as positions is deprecated. In a future version, integer keys will always be treated as labels (consistent with DataFrame behavior). To access a value by position, use `ser.iloc[pos]`\n",
      "  df['Adstock'][i] = L * df['Adstock'][i-1] + df['TVGrP'][i]**n / (df['TVGrP'][i]**n + k**n)\n",
      "C:\\Users\\ARPAN\\AppData\\Local\\Temp\\ipykernel_18764\\2455270424.py:10: FutureWarning: Series.__setitem__ treating keys as positions is deprecated. In a future version, integer keys will always be treated as labels (consistent with DataFrame behavior). To set a value by position, use `ser.iloc[pos] = value`\n",
      "  df['Adstock'][i] = L * df['Adstock'][i-1] + df['TVGrP'][i]**n / (df['TVGrP'][i]**n + k**n)\n",
      "C:\\Users\\ARPAN\\AppData\\Local\\Temp\\ipykernel_18764\\2455270424.py:10: FutureWarning: Series.__getitem__ treating keys as positions is deprecated. In a future version, integer keys will always be treated as labels (consistent with DataFrame behavior). To access a value by position, use `ser.iloc[pos]`\n",
      "  df['Adstock'][i] = L * df['Adstock'][i-1] + df['TVGrP'][i]**n / (df['TVGrP'][i]**n + k**n)\n",
      "C:\\Users\\ARPAN\\AppData\\Local\\Temp\\ipykernel_18764\\2455270424.py:10: FutureWarning: Series.__setitem__ treating keys as positions is deprecated. In a future version, integer keys will always be treated as labels (consistent with DataFrame behavior). To set a value by position, use `ser.iloc[pos] = value`\n",
      "  df['Adstock'][i] = L * df['Adstock'][i-1] + df['TVGrP'][i]**n / (df['TVGrP'][i]**n + k**n)\n"
     ]
    }
   ],
   "source": [
    "# Define the constants\n",
    "L = 0.5  # Carryover factor\n",
    "n = 2    # Exponent for saturation effect\n",
    "k = 10   # Constant for saturation effect\n",
    "\n",
    "# Calculate the Adstock\n",
    "df['Adstock'] = np.nan\n",
    "df['Adstock'][0] = df['TVGrP'][0]**n / (df['TVGrP'][0]**n + k**n)\n",
    "for i in range(1, len(df)):\n",
    "    df['Adstock'][i] = L * df['Adstock'][i-1] + df['TVGrP'][i]**n / (df['TVGrP'][i]**n + k**n)"
   ]
  },
  {
   "cell_type": "code",
   "execution_count": 85,
   "id": "073ba461-75b9-4584-b800-ab974375619e",
   "metadata": {},
   "outputs": [
    {
     "data": {
      "text/plain": [
       "Month\n",
       "2012-01-01    0.998431\n",
       "2012-01-02    1.499005\n",
       "2012-01-03    1.749345\n",
       "2012-01-04    1.874555\n",
       "2012-01-05    1.936774\n",
       "2012-01-06    1.967350\n",
       "2012-01-07    1.983445\n",
       "2012-01-08    1.991457\n",
       "2012-01-09    1.995068\n",
       "2012-01-10    1.997423\n",
       "2012-01-11    1.998606\n",
       "2012-01-12    1.999216\n",
       "2013-01-01    1.999570\n",
       "2013-01-02    1.999378\n",
       "2013-01-03    1.999629\n",
       "2013-01-04    1.999577\n",
       "2013-01-05    1.999547\n",
       "2013-01-06    1.999566\n",
       "2013-01-07    1.999476\n",
       "2013-01-08    1.999273\n",
       "2013-01-09    1.999031\n",
       "2013-01-10    1.999333\n",
       "2013-01-11    1.999236\n",
       "2013-01-12    1.999265\n",
       "2014-01-01    1.999310\n",
       "2014-01-02    1.999510\n",
       "2014-01-03    1.999670\n",
       "2014-01-04    1.999760\n",
       "2014-01-05    1.999801\n",
       "2014-01-06    1.999834\n",
       "2014-01-07    1.999836\n",
       "2014-01-08    1.999611\n",
       "2014-01-09    1.999465\n",
       "2014-01-10    1.999057\n",
       "2014-01-11    1.999428\n",
       "2014-01-12    1.999663\n",
       "2015-01-01    1.999777\n",
       "2015-01-02    1.999830\n",
       "2015-01-03    1.999793\n",
       "2015-01-04    1.999303\n",
       "2015-01-05    1.999547\n",
       "2015-01-06    1.999619\n",
       "2015-01-07    1.999670\n",
       "2015-01-08    1.999742\n",
       "2015-01-09    1.999238\n",
       "Name: Adstock, dtype: float64"
      ]
     },
     "execution_count": 85,
     "metadata": {},
     "output_type": "execute_result"
    }
   ],
   "source": [
    "df['Adstock']"
   ]
  },
  {
   "cell_type": "markdown",
   "id": "e059575d-7a1c-4291-91ad-a28344f40434",
   "metadata": {},
   "source": [
    "Carryover Effect: The Adstock values start relatively low (around 1.0) and gradually increase over time, indicating a carryover effect where the impact of earlier advertisements persists and accumulates. This suggests that the advertising campaign has a lasting impact on the audience, rather than a one-time, immediate effect.\n",
    "\n",
    "Saturation Effect: The Adstock values eventually reach a plateau, with the highest value being around 1.999. This suggests that the saturation effect is taking place, where additional exposures to the advertisements have diminishing returns on the overall impact. The audience is becoming increasingly saturated with the advertising message, and further exposures have a smaller incremental effect.\n",
    "\n",
    "Advertising Effectiveness: The overall trend of the Adstock values, starting low and gradually increasing to a plateau, suggests that the advertising campaign is effective in reaching and influencing the target audience. The carryover and saturation effects indicate that the advertising strategy is well-designed and optimized.\n",
    "\n",
    "Advertising Optimization: The Adstock data can be used to fine-tune the advertising strategy by adjusting the parameters (such as the carryover factor L, the exponent n, and the constant k) to achieve the desired Adstock curve. This can help maximize the effectiveness of the advertising campaign and optimize the allocation of marketing resources."
   ]
  }
 ],
 "metadata": {
  "kernelspec": {
   "display_name": "Python 3 (ipykernel)",
   "language": "python",
   "name": "python3"
  },
  "language_info": {
   "codemirror_mode": {
    "name": "ipython",
    "version": 3
   },
   "file_extension": ".py",
   "mimetype": "text/x-python",
   "name": "python",
   "nbconvert_exporter": "python",
   "pygments_lexer": "ipython3",
   "version": "3.12.3"
  }
 },
 "nbformat": 4,
 "nbformat_minor": 5
}
